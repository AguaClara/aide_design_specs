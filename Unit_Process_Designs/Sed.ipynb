{
  "nbformat": 4,
  "nbformat_minor": 0,
  "metadata": {
    "colab": {
      "name": "Sed.ipynb",
      "provenance": [],
      "collapsed_sections": [],
      "authorship_tag": "ABX9TyPRLa1Y/CKIRTrYFF1wWal/",
      "include_colab_link": true
    },
    "kernelspec": {
      "name": "python3",
      "display_name": "Python 3"
    }
  },
  "cells": [
    {
      "cell_type": "markdown",
      "metadata": {
        "id": "view-in-github",
        "colab_type": "text"
      },
      "source": [
        "<a href=\"https://colab.research.google.com/github/AguaClara/aide_design_specs/blob/master/Unit_Process_Designs/Sed.ipynb\" target=\"_parent\"><img src=\"https://colab.research.google.com/assets/colab-badge.svg\" alt=\"Open In Colab\"/></a>"
      ]
    },
    {
      "cell_type": "code",
      "metadata": {
        "id": "DOReVl-GyHip",
        "colab": {
          "base_uri": "https://localhost:8080/"
        },
        "outputId": "164650df-46ea-4f59-9f08-bd3e9dd7e4cf"
      },
      "source": [
        "!pip install aguaclara"
      ],
      "execution_count": null,
      "outputs": [
        {
          "output_type": "stream",
          "text": [
            "Collecting aguaclara\n",
            "\u001b[?25l  Downloading https://files.pythonhosted.org/packages/e2/22/0a3989c294e07a8feb0b2ac55cb631ad2592b3c1f12a0792e3e6337d5ab5/aguaclara-0.2.6.tar.gz (89kB)\n",
            "\u001b[K     |████████████████████████████████| 92kB 3.7MB/s \n",
            "\u001b[?25hRequirement already satisfied: matplotlib in /usr/local/lib/python3.6/dist-packages (from aguaclara) (3.2.2)\n",
            "Requirement already satisfied: urllib3 in /usr/local/lib/python3.6/dist-packages (from aguaclara) (1.24.3)\n",
            "Collecting pint\n",
            "\u001b[?25l  Downloading https://files.pythonhosted.org/packages/5f/0e/dd4fb17aed6bfbc168fd767cffb6ec20b634009b75fd8ea699ea244bff3c/Pint-0.16.1-py2.py3-none-any.whl (205kB)\n",
            "\u001b[K     |████████████████████████████████| 215kB 9.0MB/s \n",
            "\u001b[?25hRequirement already satisfied: pandas in /usr/local/lib/python3.6/dist-packages (from aguaclara) (1.1.4)\n",
            "Requirement already satisfied: scipy in /usr/local/lib/python3.6/dist-packages (from aguaclara) (1.4.1)\n",
            "Requirement already satisfied: python-dateutil>=2.1 in /usr/local/lib/python3.6/dist-packages (from matplotlib->aguaclara) (2.8.1)\n",
            "Requirement already satisfied: numpy>=1.11 in /usr/local/lib/python3.6/dist-packages (from matplotlib->aguaclara) (1.18.5)\n",
            "Requirement already satisfied: kiwisolver>=1.0.1 in /usr/local/lib/python3.6/dist-packages (from matplotlib->aguaclara) (1.3.1)\n",
            "Requirement already satisfied: cycler>=0.10 in /usr/local/lib/python3.6/dist-packages (from matplotlib->aguaclara) (0.10.0)\n",
            "Requirement already satisfied: pyparsing!=2.0.4,!=2.1.2,!=2.1.6,>=2.0.1 in /usr/local/lib/python3.6/dist-packages (from matplotlib->aguaclara) (2.4.7)\n",
            "Requirement already satisfied: packaging in /usr/local/lib/python3.6/dist-packages (from pint->aguaclara) (20.4)\n",
            "Requirement already satisfied: importlib-metadata; python_version < \"3.8\" in /usr/local/lib/python3.6/dist-packages (from pint->aguaclara) (2.0.0)\n",
            "Requirement already satisfied: importlib-resources; python_version < \"3.7\" in /usr/local/lib/python3.6/dist-packages (from pint->aguaclara) (3.3.0)\n",
            "Requirement already satisfied: pytz>=2017.2 in /usr/local/lib/python3.6/dist-packages (from pandas->aguaclara) (2018.9)\n",
            "Requirement already satisfied: six>=1.5 in /usr/local/lib/python3.6/dist-packages (from python-dateutil>=2.1->matplotlib->aguaclara) (1.15.0)\n",
            "Requirement already satisfied: zipp>=0.5 in /usr/local/lib/python3.6/dist-packages (from importlib-metadata; python_version < \"3.8\"->pint->aguaclara) (3.4.0)\n",
            "Building wheels for collected packages: aguaclara\n",
            "  Building wheel for aguaclara (setup.py) ... \u001b[?25l\u001b[?25hdone\n",
            "  Created wheel for aguaclara: filename=aguaclara-0.2.6-cp36-none-any.whl size=101373 sha256=14cdcd30209ecf9a8200342d2b39b5ca2c9544019568933bdfa5bd38fdc81098\n",
            "  Stored in directory: /root/.cache/pip/wheels/a6/9a/d5/cab5970c57dfc0099454b36812306b976c217408b39e7a379a\n",
            "Successfully built aguaclara\n",
            "Installing collected packages: pint, aguaclara\n",
            "Successfully installed aguaclara-0.2.6 pint-0.16.1\n"
          ],
          "name": "stdout"
        }
      ]
    },
    {
      "cell_type": "code",
      "metadata": {
        "id": "kQkRtgeRJMS_"
      },
      "source": [
        "import aguaclara as ac\n",
        "from aguaclara.core.units import unit_registry as u\n",
        "import numpy as np\n",
        "import pandas as pd\n",
        "import matplotlib.pyplot as plt"
      ],
      "execution_count": null,
      "outputs": []
    },
    {
      "cell_type": "markdown",
      "metadata": {
        "id": "h02MtkGMKVtr"
      },
      "source": [
        "Design of "
      ]
    },
    {
      "cell_type": "code",
      "metadata": {
        "id": "dMIx9xebR-79"
      },
      "source": [
        "\"\"\" A sedimentation tank of an AguaClara water treatment plant\n",
        "Example:\n",
        "    >>> from aguaclara.design.sed_tank import *\n",
        "    >>> sed_tank = SedimentationTank(q_tank = 6 * u.L / u.s)\n",
        "    >>> sed_tank.diffuser_hl\n",
        "    <Quantity(0.009259259259259259, 'centimeter')>\n",
        "\"\"\"\n",
        "from aguaclara.core.units import u\n",
        "import aguaclara.core.constants as con\n",
        "import aguaclara.core.materials as mat\n",
        "import aguaclara.core.pipes as pipe\n",
        "from aguaclara.core import drills\n",
        "import aguaclara.core.utility as ut\n",
        "from aguaclara.design.component import Component\n",
        "import aguaclara.core.physchem as pc\n",
        "import aguaclara.core.head_loss as hl\n",
        "\n",
        "import numpy as np\n",
        "import math\n",
        "\n",
        "\n",
        "class SedimentationTank(Component):\n",
        "    \"\"\"Design an AguaClara plant's sedimentation tank.\n",
        "    An sedimentation tank's design relies on the sedimentation channel's design\n",
        "    in the same plant, but assumed/default values may be used to design an\n",
        "    sedimentation tank by itself. To design these components in tandem, use\n",
        "    :class:`aguaclara.design.sed.Sedimentor`.\n",
        "    Constants:\n",
        "        - ``MAN_Q_RATIO (float)``: The ratio of the first to last port flow in the\n",
        "          manifold.\n",
        "        - ``OUTLET_MAN_HL (float * u.cm)``: The headloss of the outlet manifold\n",
        "        - ``JET_REVERSER_ND (float * u.inch)``: The nominal diameter of the jet\n",
        "          reverser.\n",
        "        - ``JET_REVERSER_TO_DIFFUSERS_H (float * u.cm)``: The height between\n",
        "          the jet reverser and diffusers.\n",
        "        - ``DIFFUSER_L (float * u.cm)``: The length of a diffuser.\n",
        "    Design Inputs:\n",
        "        - ``q_tank (float * u.L / u.s)``: Sed tank flow rate\n",
        "          (recommended, defaults to max flow given 6 m pipe length constraint)\n",
        "        - ``temp (float * u.degC)``: Water temperature (recommended, defaults to\n",
        "          10°C)\n",
        "        - ``vel_upflow (float * u.mm / u.s)``: Upflow velocity\n",
        "          (optional, defaults to 1 mm/s)\n",
        "        - ``l_inner (float * u.m)``: The inner length\n",
        "          (optional, defaults to 5.8m)\n",
        "        - ``w_inner (float * u.inch)``: The inner width\n",
        "          (optional, defaults to 42in.)\n",
        "        - ``jet_shear_max (float * u.Pa)``: The max shear after the jet reverser\n",
        "           (optional, defaults to 0.5 Pa)\n",
        "        - ``diffuser_sdr (int)``: The standard dimension ratio of a diffuser\n",
        "          (optional, defaults to 26)\n",
        "        - ``inlet_man_sdr (float)``: The standard dimension ratio of the inlet\n",
        "          manifold (optional, defaults to 41)\n",
        "        - ``jet_reverser_sdr (int)``: The standard dimension ratio of the jet\n",
        "          reverser (optional, defaults to 26)\n",
        "        - ``plate_settler_angle (float * u.deg)``: The angle of the plate\n",
        "          settler (optional, defaults to 60°)\n",
        "        - ``plate_settler_s (float * u.cm)``: Spacing in between plate settlers\n",
        "          (optional, defaults to 2.5cm)\n",
        "        - ``plate_settler_thickness (float * u.mm)``: Thickness of a plate\n",
        "          settler (optional, defaults to 2mm)\n",
        "        - ``plate_settler_cantilever_l_max (float * u.cm)``: The max length of\n",
        "          the plate settler cantilever (optional, defaults to 20cm)\n",
        "        - ``plate_settler_vel_capture (float * u.mm / u.s)``: The capture\n",
        "          velocity of a plate settler (optional, defaults to 0.12mm/s)\n",
        "        - ``outlet_man_orifice_hl (float * u.cm)``: The headloss of the\n",
        "          orifices in the outlet manifold (optional, defaults to 4cm)\n",
        "        - ``outlet_man_orifice_q_ratio_max (float)``: The max ratio of the flow\n",
        "          rate for the orifices of the outlet manifold (optional, defaults to 0.8)\n",
        "        - ``outlet_man_orifice_s``: orifice spacing on outlet manifold \n",
        "          (optional, defaults to 10 cm)\n",
        "        - ``outlet_man_sdr (int)``: The standard dimension ratio of the outlet\n",
        "          manifold (optional, defaults to 41)\n",
        "        - ``slope_angle (float * u.deg)``: The angle at the bottom of the sed tank\n",
        "          (optional, defaults to 50°)\n",
        "        - ``side_slope_to_floc_weir_h_min (float * u.cm)``: The minimum height\n",
        "          between the side slope and the floc weir. (optional, defaults to 5cm)\n",
        "        - ``sed_chan_w_outer (float * u.cm)``: The outer width of the\n",
        "          sedimentation channel (optional, defaults to 60cm)\n",
        "        - ``sed_chan_weir_thickness (float * u.cm)``: The thickness of the\n",
        "          sedimentation channel weir (optional, defaults to 5cm)\n",
        "        - ``floc_weir_to_plate_frame_h (float * u.cm)``: The height from the\n",
        "          top of the floc weir to the plate settler frame (optional, defaults\n",
        "          to 10cm)\n",
        "        - ``hopper_slope_vertical_angle (float * u.deg)``: The angle of the\n",
        "          hopper wall slopes to vertical (optional, defaults to 60°)\n",
        "    \"\"\"\n",
        "    OUTLET_MAN_HL = 4. * u.cm\n",
        "    JET_REVERSER_ND = 3. * u.inch\n",
        "    JET_REVERSER_TO_DIFFUSERS_H = 3.0* u.cm\n",
        "    DIFFUSER_L = 15.0 * u.cm\n",
        "\n",
        "    def __init__(self, **kwargs):\n",
        "        self.l_inner_max = 6 * u.m #length of PVC pipe\n",
        "        self.vel_upflow=1.0 * u.mm / u.s\n",
        "        self.w_inner=42.0 * u.inch\n",
        "        self.q_tank = (self.l_inner_max * self.w_inner * self.vel_upflow).to(u.L/u.s)\n",
        "\n",
        "        self.jet_shear_max= 0.25 * u.Pa #Casey predicts 0.5 Pa\n",
        "        self.diffuser_w_inner_min_clog = 1/8 * u.inch #prevent clogging with debris\n",
        "        self.diffuser_sdr=26 #thicker wall to handle molding and for strength\n",
        "        self.diffuser_nd = 1*u.inch\n",
        "        self.PVC_stretch = 1.1\n",
        "\n",
        "        self.inlet_man_sdr = 41\n",
        "        self.inlet_man_orifice_q_ratio_max=0.75\n",
        "        self.jet_reverser_sdr = 26\n",
        "\n",
        "        self.plate_settler_angle=60.0 * u.deg\n",
        "        self.plate_settler_s=2.5 * u.cm\n",
        "        self.plate_settler_thickness=2.0 * u.mm\n",
        "        self.plate_settler_cantilever_l_max=20.0 * u.cm\n",
        "        self.plate_settler_vel_capture=0.12 * u.mm / u.s\n",
        "\n",
        "        self.outlet_man_orifice_hl=4.0 * u.cm\n",
        "        self.outlet_man_orifice_q_ratio_max=0.85\n",
        "        self.outlet_man_orifice_s = 10 * u.cm\n",
        "        self.outlet_man_sdr=41\n",
        "\n",
        "        super().__init__(**kwargs)\n",
        "\n",
        "    @property\n",
        "    def l_inner(self):\n",
        "        \"\"\"The length of the tank.\"\"\"\n",
        "        l_inner = self.q_tank/ (self.w_inner * self.vel_upflow)\n",
        "        return l_inner.to(u.m)\n",
        "\n",
        "    @property\n",
        "    def v_jet_max(self):\n",
        "      \"\"\"Maximum jet velocity to prevent breaking flocs smaller than can be captured by plate settlers\"\"\"\n",
        "      return (np.sqrt(self.jet_shear_max / ac.density_water(self.temp)) * (self.vel_upflow * self.w_inner / ac.viscosity_kinematic_water(self.temp) / ac.con.JET_PLANE_RATIO)**(1/4)).to(u.mm/u.s)\n",
        "\n",
        "    @property\n",
        "    def diffuser_w_inner(self):\n",
        "        \"\"\"The inner width(neglecting walls) of the diffuser. Limit floc \n",
        "        breakup and prevent clogging.\n",
        "        There is an approximation because we are not compensating for the \n",
        "        diffuser wall thickness and gap between diffusers. \"\"\"\n",
        "        diffuser_w_inner_min_shear = self.w_inner * self.vel_upflow / self.v_jet_max\n",
        "        diffuser_w_inner_min = max(self.diffuser_w_inner_min_clog,diffuser_w_inner_min_shear)\n",
        "        diffuser_w_inner=ac.ceil_step(diffuser_w_inner_min,1/16 * u.inch)\n",
        "        return diffuser_w_inner.to(u.inch)\n",
        "\n",
        "    @property\n",
        "    def diffuser_wall_thickness(self):\n",
        "        \"\"\"The stretched thickness of the diffuser walls\"\"\"\n",
        "        return (ac.OD(self.diffuser_nd) - ac.ID_SDR(self.diffuser_nd,self.diffuser_sdr))/2 / self.PVC_stretch\n",
        "    \n",
        "    \n",
        "    @property\n",
        "    def diffuser_l_inner(self):\n",
        "        \"\"\"The stretched width of the diffuser\"\"\"\n",
        "        diffuser_inner_circumference = self.PVC_stretch * np.pi * ac.ID_SDR(self.diffuser_nd,self.diffuser_sdr)\n",
        "        diffuser_l_inner = diffuser_inner_circumference/2 - self.diffuser_w_inner\n",
        "        return diffuser_l_inner.to(u.cm)\n",
        "    \n",
        "    @property\n",
        "    def diffuser_s(self):\n",
        "        \"\"\"center to center spacing of the diffusers\"\"\"\n",
        "        return ac.ceil_step(self.diffuser_l_inner + 2 * self.diffuser_wall_thickness ,step=5*u.mm) \n",
        "    \n",
        "    @property\n",
        "    def diffuser_n(self):\n",
        "      \"\"\"number of diffusers\"\"\"\n",
        "      return int(np.trunc(((self.l_inner/self.diffuser_s).to(u.dimensionless)).magnitude))\n",
        "    \n",
        "    @property\n",
        "    def diffuser_vel(self):\n",
        "        \"\"\"The velocity of the diffuser\"\"\"\n",
        "        diffuser_vel = self.diffuser_s * self.w_inner * self.vel_upflow / (self.diffuser_l_inner * self.diffuser_w_inner)\n",
        "        return diffuser_vel.to(u.mm / u.s)\n",
        "\n",
        "    @property\n",
        "    def diffuser_hl(self):\n",
        "        \"\"\"The headloss of the diffuser.\"\"\"\n",
        "        return ((self.diffuser_vel**2) / (2 * u.gravity)).to(u.mm)\n",
        "\n",
        "    @property\n",
        "    def inlet_man_v_max(self):\n",
        "        \"\"\"The maximumum velocity in the inlet manifold.\n",
        "        ratio of port to manifold velocity to achieve flow distribution\n",
        "        https://aguaclara.github.io/Textbook/Hydraulics/Hydraulics_Intro.html#equation-manifold-max-v-no-hl-series\"\"\"\n",
        "        ratio = np.sqrt((self.inlet_man_orifice_q_ratio_max**2 + 1)/(2*(1-self.inlet_man_orifice_q_ratio_max**2)))\n",
        "        vel_manifold_max = self.diffuser_vel / ratio\n",
        "        return vel_manifold_max.to(u.mm / u.s)\n",
        "\n",
        "    @property\n",
        "    def inlet_man_nd(self):\n",
        "        \"\"\"The nominal diameter of the inlet manifold\"\"\"\n",
        "        diam_inner = ac.diam_circle(self.q_tank/self.inlet_man_v_max)\n",
        "        inlet_man_nd = pipe.ND_SDR_available(diam_inner, self.inlet_man_sdr)\n",
        "        return inlet_man_nd.to(u.inch)\n",
        "    \n",
        "    @property\n",
        "    def inlet_man_hl(self):\n",
        "      \"\"\"the head loss in the outlet manifold\"\"\"\n",
        "      return (pc.headloss_manifold(\n",
        "          self.q_tank, \n",
        "          ac.ID_SDR(self.inlet_man_nd,self.inlet_man_sdr), \n",
        "          self.l_inner, \n",
        "          1, \n",
        "          pc.viscosity_kinematic_water(self.temp), \n",
        "          mat.PVC_PIPE_ROUGH, \n",
        "          self.outlet_man_orifice_n\n",
        "      )).to(u.mm)\n",
        "\n",
        "    @property\n",
        "    def outlet_man_orifice_n(self):\n",
        "        \"\"\"The number of orifices in the outlet manifold\"\"\"\n",
        "        return int(np.trunc(((self.l_inner/self.outlet_man_orifice_s).to(u.dimensionless)).magnitude))\n",
        "\n",
        "    @property\n",
        "    def outlet_man_orifice_q(self):\n",
        "        \"\"\"The flow rate in the orifices of the outlet manifold.\"\"\"\n",
        "        return self.q_tank / self.outlet_man_orifice_n\n",
        "    \n",
        "    @property\n",
        "    def outlet_man_orifice_d(self):\n",
        "        \"\"\"The diameter of the orifices in the outlet manifold.\"\"\"\n",
        "        D_orifice = pc.diam_circle(pc.area_orifice(self.outlet_man_orifice_hl, con.VC_ORIFICE_RATIO, self.outlet_man_orifice_q))\n",
        "        return ut.ceil_nearest(D_orifice, drills.DRILL_BITS_D_IMPERIAL)\n",
        "\n",
        "    @property\n",
        "    def outlet_man_orifice_contracted_v(self):\n",
        "        \"\"\"The velocity in the orifice vena contracta of the outlet manifold.\"\"\"\n",
        "        v = self.q_tank / self.outlet_man_orifice_n / pc.area_circle(self.outlet_man_orifice_d)\n",
        "        return v.to(u.mm/u.s)\n",
        "\n",
        "    @property\n",
        "    def outlet_man_nd(self):\n",
        "        \"\"\"The nominal diameter of the outlet manifold.\n",
        "        ratio of port to manifold velocity to achieve flow distribution\n",
        "        https://aguaclara.github.io/Textbook/Hydraulics/Hydraulics_Intro.html#equation-manifold-max-v-no-hl-series\"\"\"\n",
        "        ratio = np.sqrt((self.outlet_man_orifice_q_ratio_max**2 + 1)/(2*(1-self.outlet_man_orifice_q_ratio_max**2)))\n",
        "        v_max = self.outlet_man_orifice_contracted_v/ ratio\n",
        "        A_min = self.q_tank/v_max\n",
        "        d_min = pc.diam_circle(A_min)\n",
        "        return (pipe.ND_SDR_available(d_min, self.outlet_man_sdr)).to(u.inch)\n",
        "\n",
        "    @property\n",
        "    def outlet_man_hl(self):\n",
        "      \"\"\"the head loss in the outlet manifold\"\"\"\n",
        "      return (pc.headloss_manifold(\n",
        "          self.q_tank, \n",
        "          ac.ID_SDR(self.outlet_man_nd,self.outlet_man_sdr), \n",
        "          self.l_inner, \n",
        "          1, \n",
        "          pc.viscosity_kinematic_water(self.temp), \n",
        "          mat.PVC_PIPE_ROUGH, \n",
        "          self.outlet_man_orifice_n\n",
        "      )).to(u.mm)\n",
        "\n",
        "    @property\n",
        "    def plate_l(self):\n",
        "        \"\"\"The length of a plate in the plate settlers.\"\"\"\n",
        "        L_sed_plate = ((self.plate_settler_s * ((self.vel_upflow / \\\n",
        "             self.plate_settler_vel_capture) - 1)\n",
        "                        + self.plate_settler_thickness * (\n",
        "                            self.vel_upflow / self.plate_settler_vel_capture))\n",
        "                     / (np.sin(self.plate_settler_angle) * \\\n",
        "                         np.cos(self.plate_settler_angle))\n",
        "                     ).to(u.m)\n",
        "        return L_sed_plate"
      ],
      "execution_count": null,
      "outputs": []
    },
    {
      "cell_type": "code",
      "metadata": {
        "id": "46N4vKjoWX3h",
        "colab": {
          "base_uri": "https://localhost:8080/"
        },
        "outputId": "698f8345-d946-45fa-f771-49e58efb58fc"
      },
      "source": [
        "localSed = SedimentationTank(temp=5*u.degC)\n",
        "print('q_tank',localSed.q_tank)\n",
        "print('l_inner',localSed.l_inner)\n",
        "print('v_jet_max',localSed.v_jet_max)\n",
        "print('diffuser_w_inner',localSed.diffuser_w_inner)\n",
        "print('diffuser_wall_thickness',localSed.diffuser_wall_thickness)\n",
        "print('diffuser_l_inner',localSed.diffuser_l_inner)\n",
        "print('diffuser_s',localSed.diffuser_s)\n",
        "print('diffuser_n',localSed.diffuser_n)\n",
        "print('diffuser_vel',localSed.diffuser_vel)\n",
        "print('diffuser_hl',localSed.diffuser_hl)\n",
        "print('inlet_man_v_max',localSed.inlet_man_v_max)\n",
        "print('inlet_man_nd',localSed.inlet_man_nd)\n",
        "print('inlet_man_hl',localSed.inlet_man_hl)\n",
        "print('outlet_man_orifice_n',localSed.outlet_man_orifice_n)\n",
        "print('outlet_man_orifice_q',localSed.outlet_man_orifice_q)\n",
        "print('outlet_man_orifice_d',localSed.outlet_man_orifice_d)\n",
        "print('outlet_man_orifice_contracted_v',localSed.outlet_man_orifice_contracted_v)\n",
        "print('outlet_man_nd',localSed.outlet_man_nd)\n",
        "print('outlet_man_hl',localSed.outlet_man_hl)\n",
        "print('plate_l',localSed.plate_l)"
      ],
      "execution_count": null,
      "outputs": [
        {
          "output_type": "stream",
          "text": [
            "q_tank 6.401 liter / second\n",
            "l_inner 6 meter\n",
            "v_jet_max 244.6 millimeter / second\n",
            "diffuser_w_inner 0.1875 inch\n",
            "diffuser_wall_thickness 0.04598 inch\n",
            "diffuser_l_inner 4.851 centimeter\n",
            "diffuser_s 5.5 centimeter\n",
            "diffuser_n 109\n",
            "diffuser_vel 254 millimeter / second\n",
            "diffuser_hl 3.288 millimeter\n",
            "inlet_man_v_max 190 millimeter / second\n",
            "inlet_man_nd 8 inch\n",
            "inlet_man_hl 1.068 millimeter\n",
            "outlet_man_orifice_n 60\n",
            "outlet_man_orifice_q 0.1067 liter / second\n",
            "outlet_man_orifice_d 0.625 inch\n",
            "outlet_man_orifice_contracted_v 539 millimeter / second\n",
            "outlet_man_nd 8 inch\n"
          ],
          "name": "stdout"
        },
        {
          "output_type": "stream",
          "text": [
            "/usr/local/lib/python3.6/dist-packages/aguaclara/core/pipes.py:144: UnitStrippedWarning: The unit of the quantity is stripped when downcasting to ndarray.\n",
            "  for i in range(len(np.array(ID_SDR_all_available(SDR)))):\n",
            "/usr/local/lib/python3.6/dist-packages/aguaclara/core/pipes.py:145: UnitStrippedWarning: The unit of the quantity is stripped when downcasting to ndarray.\n",
            "  if np.array(ID_SDR_all_available(SDR))[i] >= (ID.to(u.inch)).magnitude:\n"
          ],
          "name": "stderr"
        },
        {
          "output_type": "stream",
          "text": [
            "outlet_man_hl 1.068 millimeter\n",
            "plate_l 0.4619 meter\n"
          ],
          "name": "stdout"
        }
      ]
    },
    {
      "cell_type": "code",
      "metadata": {
        "id": "QOe46eaHKU-V",
        "colab": {
          "base_uri": "https://localhost:8080/"
        },
        "outputId": "c7f2404f-92dd-4367-939d-16ced813eebd"
      },
      "source": [
        "mySed = ac.Sedimentor(q=3*u.L/u.s,temp=15*u.degC)\n",
        "print('There are', mySed.tank_n, 'sed tanks')\n",
        "print('Flow per tank',mySed.tank.q_tank)\n",
        "print('Flow per tank',mySed.tank.inlet_man_nd.to(u.inch))"
      ],
      "execution_count": null,
      "outputs": [
        {
          "output_type": "stream",
          "text": [
            "/usr/local/lib/python3.6/dist-packages/aguaclara/core/pipes.py:144: UnitStrippedWarning: The unit of the quantity is stripped when downcasting to ndarray.\n",
            "  for i in range(len(np.array(ID_SDR_all_available(SDR)))):\n",
            "/usr/local/lib/python3.6/dist-packages/aguaclara/core/pipes.py:145: UnitStrippedWarning: The unit of the quantity is stripped when downcasting to ndarray.\n",
            "  if np.array(ID_SDR_all_available(SDR))[i] >= (ID.to(u.inch)).magnitude:\n"
          ],
          "name": "stderr"
        },
        {
          "output_type": "stream",
          "text": [
            "There are 1 sed tanks\n",
            "Flow per tank 6.187 liter / second\n",
            "Flow per tank 24 inch\n"
          ],
          "name": "stdout"
        }
      ]
    },
    {
      "cell_type": "markdown",
      "metadata": {
        "id": "mrN7d2YXEVpL"
      },
      "source": [
        "Okay! The EDR estimate from Casey is solid. How does this translate into design?\n",
        "Let's put this in terms of vjet and jet spacing given this shear stress constraint.\n",
        "\n",
        "From continuity we have\n",
        "\n",
        "$$\\bar v_{Jet} W_{Jet} = \\bar v_{z_{fb}} W_{Sed}$$\n",
        "\n",
        "Solve to find the thickness of the plane jet.\n",
        "\n",
        "$$W_{Jet} = \\frac{\\bar v_{z_{fb}} W_{Sed}}{\\bar v_{Jet} }$$\n",
        "\n",
        "We have a constraint on the fluid shear stress from Casey's research of 0.55 Pa.\n",
        "\n",
        "$$\\tau_{max} = \\rho \\sqrt{\\varepsilon \\nu }$$\n",
        "\n",
        "Substitute the definition of energy dissipation rate in a plane jet.\n",
        "\n",
        "$$\\varepsilon_{Max} = \\Pi_{JetPlane} \\frac{  \\bar v_{Jet} ^3}{W_{Jet}}$$\n",
        "\n",
        "to get\n",
        "\n",
        "$$\\tau_{max} = \\rho \\sqrt{\\nu \\Pi_{JetPlane} \\frac{  \\bar v_{Jet} ^3}{W_{Jet}}}$$\n",
        "\n",
        "Use continuity to eliminate $W_{jet}$\n",
        "\n",
        "$$\\tau_{max} = \\rho \\bar v_{Jet} ^2 \\sqrt{ \\frac{\\nu \\Pi_{JetPlane}}{\\bar v_{z_{fb}} W_{Sed}}}$$\n",
        "\n",
        "Now solve for $\\bar v_{Jet}$\n",
        "\n",
        "$$\\bar v_{Jet} = \\left(\\frac{\\tau_{max}}{\\rho}\\right)^\\frac{1}{2} \\left( \\frac{\\bar v_{z_{fb}} W_{Sed}}{\\nu \\Pi_{JetPlane}}\\right)^\\frac{1}{4}$$\n",
        "\n",
        "The calculation of $\\tau_{max}$ is from [Casey's research on the energy dissipation rate of the diffuser jet](https://colab.research.google.com/github/MWSteams/WTP_models/blob/master/Bond_strength_estimates.ipynb). This is from [Casey's article on jet experiments](https://www.liebertpub.com/doi/10.1089/ees.2015.0314)\n",
        "\n",
        "We'd like this as a function of Q and L. \n",
        "\n",
        "$$\\bar v_{Jet} = \\left(\\frac{\\tau_{max}}{\\rho}\\right)^\\frac{1}{2} \\left( \\frac{Q }{L_{Sed}\\nu \\Pi_{JetPlane}}\\right)^\\frac{1}{4}$$"
      ]
    },
    {
      "cell_type": "markdown",
      "metadata": {
        "id": "IyADh0I1ZazX"
      },
      "source": [
        "## Dimensionless floc number\n",
        "\n",
        "This could characterize the relationship between capture velocity and jet shear on the reactor side and the relationship between floc strength and sedimentation velocity on the floc side. \n",
        "The force ratio is gravity and shear! Let's make a dimensionless number.\n",
        "\n",
        "$$F_{shear_{max}} = 3 \\tau \\frac{ \\pi d_{floc}^2}{4} = 3 \\tau A_{floc}$$\n",
        "\n",
        "$$\\Pi_{Bond}^{Fluid} = \\frac{F_{shear_{max}}}{F_{covalent}} = \\frac{3 \\tau A_{floc}}{F_{covalent}}$$\n",
        "\n",
        "$$d_{floc}=\\sqrt{\\frac{4F_{covalent}}{3 \\pi \\tau}}$$\n",
        "\n",
        "$$\\bar v_t = \\frac{g d_0^2}{18 \\nu_{H_2O}}\n",
        "\\frac{ \\left( \\rho_{Floc_0} - \\rho_{H_2O} \\right)}{\\rho_{H_2O}}\n",
        "\\left( \\frac{d}{d_0} \\right)^{D_{Fractal} - 1}$$\n",
        "\n",
        "$$v_c = \\bar v_t = \\frac{g }{18 \\nu_{H_2O}}\n",
        "\\frac{ d_0^2\\left( \\rho_{Floc_0} - \\rho_{H_2O} \\right)}{\\rho_{H_2O}}\n",
        "\\left( \\frac{\\sqrt{\\frac{4F_{covalent}}{3 \\pi \\tau}}}{d_0} \\right)^{D_{Fractal} - 1}$$\n",
        "\n",
        "The reactor properties are $v_c$ and  $\\tau$. \n",
        "The floc and fluid properties are all of the other parameters. \n",
        "\n",
        "$$v_c = \\bar v_t = \\frac{g }{18 \\nu_{H_2O}}\n",
        "\\frac{ d_0^2\\left( \\rho_{Floc_0} - \\rho_{H_2O} \\right)}{\\rho_{H_2O}}\n",
        "\\left( \\frac{4F_{covalent}}{3 \\pi d_0^2 \\tau} \\right)\n",
        "^{\\frac{D_{Fractal} - 1}{2}}$$\n",
        "\n",
        "I'm currently thinking that creating a dimensionless grouping is difficult because the floc properties and the fluid shear both have exponents with $D_{Fractal}$. Thus it isn't possible to separate the floc and fluid properties.\n",
        "So we would end up with dimensionless groupings that have both floc and other properties.\n",
        "\n",
        "$$\\Pi_1=\\left( \\frac{4F_{covalent}}{3 \\pi d_0^2 \\tau} \\right)\n",
        "^{\\frac{D_{Fractal} - 1}{2}}$$\n",
        "\n",
        "$$\\Pi_2= \\frac{\\rho_{Floc_0} - \\rho_{H_2O}}{\\rho_{H_2O}}$$\n",
        "\n",
        "$$\\Pi_3 = \\frac{g d_0^2}{18 v_c \\nu_{H_2O}}$$\n",
        "\n",
        "$$ 1 = \\Pi_1 \\Pi_2 \\Pi_3$$\n",
        "How can we obtain the floc properties?\n",
        "Fractal dimension seems to be relatively well known and have a value of 2.1\n",
        "density of constituent particles seems like something we can find reasonable estimates.\n",
        " \n",
        "\n",
        "\n",
        "\n",
        "\n",
        "\n"
      ]
    },
    {
      "cell_type": "code",
      "metadata": {
        "id": "K7wTigli503s",
        "colab": {
          "base_uri": "https://localhost:8080/"
        },
        "outputId": "30b85452-abf1-4d2d-be8a-240d7209aba1"
      },
      "source": [
        "v_c = 0.12 * u.mm/u.s\n",
        "d_0 = 7 * u.um\n",
        "temp = 20 * u.degC\n",
        "nu = ac.viscosity_kinematic_water(temp)\n",
        "mystery = (u.gravity * d_0**2/ v_c/nu).to(u.dimensionless)\n",
        "print(mystery)"
      ],
      "execution_count": null,
      "outputs": [
        {
          "output_type": "stream",
          "text": [
            "3.99 dimensionless\n"
          ],
          "name": "stdout"
        }
      ]
    },
    {
      "cell_type": "code",
      "metadata": {
        "id": "Fa2UOCYtERbF",
        "colab": {
          "base_uri": "https://localhost:8080/",
          "height": 461
        },
        "outputId": "da2f6b27-5aff-4cdb-fc73-6f37acaff2be"
      },
      "source": [
        "tau_max = 0.5529 * u.Pa \n",
        "\n",
        "v_z_fb = 1 *u.mm/u.s\n",
        "W_sed = 1.06 * u.m\n",
        "W_sed_range = np.linspace(0.2,1,50)*u.m\n",
        "def v_jet_max(v_z_fb, W_sed,tau_max,temp):\n",
        "  return (np.sqrt(tau_max / ac.density_water(temp)) * (v_z_fb * W_sed / ac.viscosity_kinematic_water(temp) / ac.con.JET_PLANE_RATIO)**(1/4)).to(u.mm/u.s)\n",
        "\n",
        "jetHL = v_jet_max(v_z_fb, W_sed,tau_max,temp)**2/(2 * u.gravity)\n",
        "print(jetHL.to(u.cm))\n",
        "plt.plot(W_sed_range,v_jet_max(v_z_fb,W_sed_range,tau_max,30*u.degC));\n",
        "plt.plot(W_sed_range,v_jet_max(v_z_fb,W_sed_range,tau_max,20*u.degC));\n",
        "plt.plot(W_sed_range,v_jet_max(v_z_fb,W_sed_range,tau_max,10*u.degC));\n",
        "plt.plot(W_sed_range,v_jet_max(v_z_fb,W_sed_range,tau_max,0.1*u.degC));\n",
        "plt.xlabel('Sedimentation valley width (m)');\n",
        "plt.ylabel(r'Maximum diffuser jet velocity $\\left(\\frac{mm}{s}\\right)$');\n",
        "plt.legend(['$30^\\circ C$','$20^\\circ C$','$10^\\circ C$','$0^\\circ C$']);\n",
        "plt.show()\n",
        "\n",
        "print(ac.con.JET_PLANE_RATIO)\n"
      ],
      "execution_count": null,
      "outputs": [
        {
          "output_type": "stream",
          "text": [
            "0.8242 centimeter\n"
          ],
          "name": "stdout"
        },
        {
          "output_type": "stream",
          "text": [
            "/usr/local/lib/python3.6/dist-packages/numpy/core/_asarray.py:85: UnitStrippedWarning: The unit of the quantity is stripped when downcasting to ndarray.\n",
            "  return array(a, dtype, copy=False, order=order)\n",
            "/usr/local/lib/python3.6/dist-packages/numpy/core/_asarray.py:85: UnitStrippedWarning: The unit of the quantity is stripped when downcasting to ndarray.\n",
            "  return array(a, dtype, copy=False, order=order)\n",
            "/usr/local/lib/python3.6/dist-packages/numpy/core/_asarray.py:85: UnitStrippedWarning: The unit of the quantity is stripped when downcasting to ndarray.\n",
            "  return array(a, dtype, copy=False, order=order)\n",
            "/usr/local/lib/python3.6/dist-packages/numpy/core/_asarray.py:85: UnitStrippedWarning: The unit of the quantity is stripped when downcasting to ndarray.\n",
            "  return array(a, dtype, copy=False, order=order)\n"
          ],
          "name": "stderr"
        },
        {
          "output_type": "display_data",
          "data": {
            "image/png": "[encoded data removed]",
            "text/plain": [
              "<Figure size 432x288 with 1 Axes>"
            ]
          },
          "metadata": {
            "tags": [],
            "needs_background": "light"
          }
        },
        {
          "output_type": "stream",
          "text": [
            "0.0124\n"
          ],
          "name": "stdout"
        }
      ]
    },
    {
      "cell_type": "code",
      "metadata": {
        "id": "J8PUn6a81KZi",
        "colab": {
          "base_uri": "https://localhost:8080/",
          "height": 425
        },
        "outputId": "431b2926-0b3a-49dc-8ffc-c34bee32d7e8"
      },
      "source": [
        "plt.plot(W_sed_range,(v_jet_max(v_z_fb,W_sed_range,tau_max,30*u.degC)**2 / (2 * u.gravity)).to(u.cm));\n",
        "plt.plot(W_sed_range,(v_jet_max(v_z_fb,W_sed_range,tau_max,20*u.degC)**2 / (2 * u.gravity)).to(u.cm));\n",
        "plt.plot(W_sed_range,(v_jet_max(v_z_fb,W_sed_range,tau_max,10*u.degC)**2 / (2 * u.gravity)).to(u.cm));\n",
        "plt.plot(W_sed_range,(v_jet_max(v_z_fb,W_sed_range,tau_max,0.1*u.degC)**2 / (2 * u.gravity)).to(u.cm));\n",
        "plt.xlabel('Sedimentation valley width (m)');\n",
        "plt.ylabel(r'Maximum diffuser head loss $\\left(cm\\right)$');\n",
        "plt.legend(['$30^\\circ C$','$20^\\circ C$','$10^\\circ C$','$0^\\circ C$']);\n",
        "plt.show()"
      ],
      "execution_count": null,
      "outputs": [
        {
          "output_type": "stream",
          "text": [
            "/usr/local/lib/python3.6/dist-packages/numpy/core/_asarray.py:85: UnitStrippedWarning: The unit of the quantity is stripped when downcasting to ndarray.\n",
            "  return array(a, dtype, copy=False, order=order)\n",
            "/usr/local/lib/python3.6/dist-packages/numpy/core/_asarray.py:85: UnitStrippedWarning: The unit of the quantity is stripped when downcasting to ndarray.\n",
            "  return array(a, dtype, copy=False, order=order)\n",
            "/usr/local/lib/python3.6/dist-packages/numpy/core/_asarray.py:85: UnitStrippedWarning: The unit of the quantity is stripped when downcasting to ndarray.\n",
            "  return array(a, dtype, copy=False, order=order)\n",
            "/usr/local/lib/python3.6/dist-packages/numpy/core/_asarray.py:85: UnitStrippedWarning: The unit of the quantity is stripped when downcasting to ndarray.\n",
            "  return array(a, dtype, copy=False, order=order)\n"
          ],
          "name": "stderr"
        },
        {
          "output_type": "display_data",
          "data": {
            "image/png": "[encoded data removed]",
            "text/plain": [
              "<Figure size 432x288 with 1 Axes>"
            ]
          },
          "metadata": {
            "tags": [],
            "needs_background": "light"
          }
        }
      ]
    },
    {
      "cell_type": "markdown",
      "metadata": {
        "id": "rWI7tfIMl_Ho"
      },
      "source": [
        "Now we can find the maximum manifold velocity\n",
        "$$\\frac{\\bar v_{P}}{\\bar v_{M_1}} = \\sqrt{\\frac{\\Pi_{Q}^2 + 1}{2(1 - \\Pi_{Q}^2)}}$$\n",
        "\n",
        "$$\\frac{\\bar v_{M_1}}{\\bar v_{P}} = \\sqrt{\\frac{2(1 - \\Pi_{Q}^2)}{\\Pi_{Q}^2 + 1}}$$\n",
        "\n",
        "Find length of a sed tank served by an 8\" manifold\n",
        "\n",
        "\n",
        "\n",
        "Given the velocity in the manifolds, could we minimize the plastic given a dimension for the sed tank? "
      ]
    },
    {
      "cell_type": "code",
      "metadata": {
        "id": "UwflrrPYj212",
        "colab": {
          "base_uri": "https://localhost:8080/"
        },
        "outputId": "b38b07e9-06a7-4606-8942-8504b00326e5"
      },
      "source": [
        "Pi_Q = 0.85\n",
        "Pi_v = np.sqrt(2 * (1-Pi_Q**2)/(Pi_Q**2+1))\n",
        "print(Pi_v)\n",
        "\n"
      ],
      "execution_count": null,
      "outputs": [
        {
          "output_type": "stream",
          "text": [
            "0.5676320073700932\n"
          ],
          "name": "stdout"
        }
      ]
    },
    {
      "cell_type": "code",
      "metadata": {
        "id": "VZ_he2md-VAC"
      },
      "source": [
        ""
      ],
      "execution_count": null,
      "outputs": []
    },
    {
      "cell_type": "markdown",
      "metadata": {
        "id": "VMPEYzg9uGjA"
      },
      "source": [
        "$$\\frac{\\bar v_{M_1}^{2}}{2 g} = 2\\bar \\Psi_{M}\\frac{1 - \\Pi_{Q}^2}{\\Pi_{Q}^2 + 1}$$"
      ]
    },
    {
      "cell_type": "markdown",
      "metadata": {
        "id": "ytCLfZLnXRNP"
      },
      "source": [
        "#Plate Settler Length in short tanks\n",
        "The plate settler length must accommodate the lost triangle at the end of the sed tank.\n",
        "\n",
        "$$\\bar v_{z_{Plate}} L_{active}= \\bar v_{z_{Sed}} L_{sed}$$\n",
        "$$L_{active} = L_{sed} - L_{inactive}$$\n",
        "$$L_{inactive} = L_{plate} cos(\\alpha)$$\n",
        "\n",
        "Now solve for the active vertical velocity\n",
        "\n",
        "$$\\frac{\\bar v_{z_{Plate}}}{\\bar v_{z_{Sed}}} =  \\frac{ L_{sed}}{L_{sed} - L_{plate} cos(\\alpha)}$$\n",
        "\n",
        "bring $\\bar v_c$ into the equation for similarity with capture velocity equation.\n",
        "\n",
        "$$\\frac{\\bar v_{z_{Plate}}}{\\bar v_c} = \\frac{\\bar v_{z_{Sed}}}{\\bar v_c} \\frac{  L_{sed}}{L_{sed} - L_{plate} cos(\\alpha)}$$\n",
        "\n",
        "From [equation](https://aguaclara.github.io/Textbook/Sedimentation/Sed_Derivations.html#equation-sedimentation-sed-derivations-8) in the AguaClara textbook\n",
        "$$L_{plate} = \\frac{S\\left(\\frac{\\bar v_{z_{Plate}}}{\\bar v_c}-1\\right) + T\\left(\\frac{\\bar v_{z_{Plate}}}{\\bar v_c}\\right)}{sin(\\alpha) cos(\\alpha)}$$\n",
        "\n",
        "Now we have two equations in two unknowns ($\\frac{\\bar v_{z_{Plate}}}{\\bar v_c}$ and $L_{plate}$). First rearrange the equation for $L_{plate}$.\n",
        "\n",
        "$$L_{plate}sin(\\alpha) cos(\\alpha) = \\frac{S\\bar v_{z_{Plate}}}{\\bar v_c}-S + \\frac{T\\bar v_{z_{Plate}}}{\\bar v_c}$$\n",
        "\n",
        "$$L_{plate}\\frac{sin(\\alpha) cos(\\alpha)}{S+T}+\\frac{S}{S+T} = \\frac{\\bar v_{z_{Plate}}}{\\bar v_c} $$\n",
        "\n",
        "Substitute equation for $\\frac{\\bar v_{z_{Plate}}}{\\bar v_c}$\n",
        "\n",
        "$$L_{plate}\\frac{sin(\\alpha) cos(\\alpha)}{S+T}+\\frac{S}{S+T} = \\frac{\\bar v_{z_{Sed}}}{\\bar v_c} \\frac{ L_{sed}}{L_{sed} - L_{plate} cos(\\alpha)} $$\n",
        "\n",
        "$$\\left(L_{sed} - L_{plate} cos(\\alpha)\\right)\\left(L_{plate}\\frac{sin(\\alpha) cos(\\alpha)}{S+T}+\\frac{S}{S+T}\\right) = L_{sed}\\frac{\\bar v_{z_{Sed}}}{\\bar v_c}  $$\n",
        "\n",
        "$$L_{sed} \\left(L_{plate}\\frac{sin(\\alpha) cos(\\alpha)}{S+T}+\\frac{S}{S+T}\\right) -L_{plate} cos(\\alpha) \\left(L_{plate}\\frac{sin(\\alpha) cos(\\alpha)}{S+T}+\\frac{S}{S+T}\\right) - L_{sed}\\frac{\\bar v_{z_{Sed}}}{\\bar v_c} =0 $$\n",
        "\n",
        "$$ L_{plate}\\frac{L_{sed}sin(\\alpha) cos(\\alpha)}{S+T} + -L_{plate}L_{plate} cos(\\alpha)\\frac{sin(\\alpha) cos(\\alpha)}{S+T}-\\frac{S L_{plate} cos(\\alpha)}{S+T} +\\frac{L_{sed}S}{S+T} - L_{sed}\\frac{\\bar v_{z_{Sed}}}{\\bar v_c} =0 $$\n",
        "\n",
        "done to here\n",
        "\n",
        "$$ -L_{plate}^2 sin(\\alpha) cos^2(\\alpha) + L_{plate}L_{sed}sin(\\alpha) cos(\\alpha) - S L_{plate} cos(\\alpha) + L_{sed}S - L_{sed}\\frac{\\bar v_{z_{Sed}}}{\\bar v_c}(S+T)=0 $$\n",
        "\n",
        "more simplification\n",
        "\n",
        "$$ L_{plate}^2 sin(\\alpha) cos^2(\\alpha) +  L_{plate} \\left[S cos(\\alpha)- L_{sed}sin(\\alpha) cos(\\alpha)\\right]  + L_{sed}\\left(\\frac{\\bar v_{z_{Sed}}}{\\bar v_c}(S+T)-S\\right)=0 $$\n"
      ]
    },
    {
      "cell_type": "code",
      "metadata": {
        "id": "EvDgf3cji14-",
        "colab": {
          "base_uri": "https://localhost:8080/"
        },
        "outputId": "443b6edb-eea4-45ef-8cf9-dbc927a73006"
      },
      "source": [
        "flocHopperQ = 12 * u.mL/u.s\n",
        "flocHopperD = pipe.ID_sch40(3*u.inch)\n",
        "temp = 20 * u.degC\n",
        "Nu = ac.viscosity_kinematic_water(temp)\n",
        "flocHopperRe = ac.re_pipe(flocHopperQ,flocHopperD,Nu)\n",
        "print(\"The Reynolds number for the floc hopper flow is\",flocHopperRe)\n"
      ],
      "execution_count": null,
      "outputs": [
        {
          "output_type": "stream",
          "text": [
            "The Reynolds number for the floc hopper flow is 195.4 dimensionless\n"
          ],
          "name": "stdout"
        }
      ]
    },
    {
      "cell_type": "code",
      "metadata": {
        "id": "CJ866gKBTdLz"
      },
      "source": [
        ""
      ],
      "execution_count": null,
      "outputs": []
    },
    {
      "cell_type": "markdown",
      "metadata": {
        "id": "km1zzeLTVPPm"
      },
      "source": [
        "The Reynolds number doesn't take into account the fact that there is significant return flow back to the sed tank. I am not clear on how the two flows will interact and the potential for eddy formation at the interface between the two currents. According to [Barmaka et al. (2016)](https://arxiv.org/ftp/arxiv/papers/1605/1605.05095.pdf) flow instabilities are caused by shear at the interface between the countercurrent flows. To solve this problem we should design a manifold to collect the clarified water so that the return flow is in a separate space. This will eliminate the shear at the interface. The challenge will be designing a manifold that only picks up the clarifed water.\n",
        "\n",
        "We can turn a sloped pipe into a mini sedimentation tank with sludge flowing by gravity to the end of the pipe and clear water collected in a manifold along the sloped top of the pipe. \n",
        "\n",
        "What diameter of pipe is required to collect the return flow? We should analyze both dilute and concentrated floc blankets that occur for low and high turbidity respectively.\n",
        "\n",
        "$$\\rho_{fb} = \\left( 1 - \\frac{\\rho_{H_2O}}{\\rho_{clay}} \\right)C_{clay} + \\rho_{H_2O}$$\n",
        " [textbook](https://aguaclara.github.io/Textbook/Sedimentation/Sed_Derivations.html#equation-sedimentation-sed-derivations-61)\n",
        "\n",
        "$$ \\Delta \\rho_{fb} = \\rho_{fb} - \\rho_{H_2O}$$\n",
        "\n",
        "$$ \\Delta \\rho_{fb} = \\left( 1 - \\frac{\\rho_{H_2O}}{\\rho_{clay}} \\right)C_{clay}$$\n",
        "\n",
        "The head loss through the outlet manifold is set by the density of the incoming floc blanket. Consolidation could potentially help increase this density. \n",
        "\n",
        "$$ H = L sin(\\theta)$$\n",
        "\n",
        "$$\\Delta P = \\Delta \\rho_{fb} g H$$\n",
        "\n",
        "$$HL = \\frac{\\Delta P}{\\rho_{H_2O} g} $$\n",
        "\n",
        "$$HL = \\frac{\\Delta \\rho_{fb} H}{\\rho_{H_2O}}$$\n",
        "\n",
        "$$HL = L sin(\\theta)\\left( \\frac{1}{\\rho_{H_2O}} - \\frac{1}{\\rho_{clay}} \\right)C_{clay}$$\n",
        "\n",
        "This is a manifold and thus the head loss in the manifold is 1/3 the head loss of a constant flow pipe. Thus we can design the manifold for 3 times the available head loss.\n",
        "\n",
        "The available head is also used to deliver the water into the floc hopper. Thus we should design the manifold for 1.5 times the available head loss.\n",
        "\n",
        "The minimum floc hopper cross sectional area is double the manifold area."
      ]
    },
    {
      "cell_type": "code",
      "metadata": {
        "id": "LzN-mSGi_QJ1",
        "colab": {
          "base_uri": "https://localhost:8080/"
        },
        "outputId": "51ee1cc3-0976-41dc-b9b7-b822c9aaca10"
      },
      "source": [
        "waterRHO = ac.density_water(temp)\n",
        "clayC = 3 * u.NTU\n",
        "flocNetC = 100 * u.NTU\n",
        "Q = 5 * u.L/u.s\n",
        "\n",
        "def flocNetRHO(temp,clayRHO,clayC):\n",
        "  waterRHO = ac.density_water(temp)\n",
        "  return (1 - waterRHO / ac.Clay.Density) * clayC + waterRHO\n",
        "L = 1 * u.m\n",
        "tubeAN = 60 * u.deg\n",
        "HL = L * np.sin(tubeAN) * (1/waterRHO - 1/ac.Clay.Density) * clayC\n",
        "flocHopperQ = Q * clayC/flocNetC\n",
        "KMinor = 2\n",
        "manifoldIDmin = ac.diam_pipe(flocHopperQ,HL*1.5,L,Nu,ac.PVC_PIPE_ROUGH,KMinor)\n",
        "print(\"the manifold ID is\",manifoldIDmin.to(u.cm),\"for a flow of\",flocHopperQ.to(u.mL/u.s))\n",
        "flocHopperIDmin = np.sqrt(2*(manifoldIDmin**2))\n",
        "print(\"The floc hopper ID min is\",flocHopperIDmin)\n"
      ],
      "execution_count": null,
      "outputs": [
        {
          "output_type": "stream",
          "text": [
            "the manifold ID is 18.67 centimeter for a flow of 150 milliliter / second\n",
            "The floc hopper ID min is 0.264 meter\n"
          ],
          "name": "stdout"
        }
      ]
    },
    {
      "cell_type": "markdown",
      "metadata": {
        "id": "SeWHFFYPNsid"
      },
      "source": [
        "The worst situation for getting the return flow back out of the floc hopper is when the floc blanket is most dilute and lowest density. High turbidity results in a more concentrated flocnet and that significantly increases the available energy to move the return flow back out of the floc hopper and that more than compensates for the higher flow required. \n",
        "\n",
        "# Floc Hopper Settler Design\n",
        "The flocs should settle at the upflow velocity. To give a factor of safety, perhaps use a capture velocity of 1/2 the upflow velocity.\n",
        "\n",
        "Find the required length of the sedimentation area in the floc hopper given the diameter. We will only use the area provided by the bottom half of the pipe as sedimentation area with no plate inserts.\n",
        "\n",
        "$$ settlerL = \\frac{projectedPlateA}{hopperID cos(tubeAN)}$$\n",
        "\n"
      ]
    },
    {
      "cell_type": "code",
      "metadata": {
        "id": "O8wOaURCKNSk",
        "colab": {
          "base_uri": "https://localhost:8080/"
        },
        "outputId": "a96da94f-5777-41e3-9be9-a15a367c1a56"
      },
      "source": [
        "hopperCaptureV = 0.5 * u.mm/u.s\n",
        "projectedPlateA = (flocHopperQ/hopperCaptureV).to(u.m**2)\n",
        "print(\"The required projected plate area is \",projectedPlateA)\n",
        "settlerL = projectedPlateA/(flocHopperIDmin * np.cos(tubeAN))\n",
        "print(\"The minimum length of the floc hopper for sedimentation is\",settlerL)"
      ],
      "execution_count": null,
      "outputs": [
        {
          "output_type": "stream",
          "text": [
            "The required projected plate area is  0.3 meter ** 2\n",
            "The minimum length of the floc hopper for sedimentation is 2.273 meter\n"
          ],
          "name": "stdout"
        }
      ]
    },
    {
      "cell_type": "markdown",
      "metadata": {
        "id": "N9ubs4cadgGR"
      },
      "source": [
        "# Manifold Design Considerations\n",
        "\n",
        "The openings into the manifold should be as high as possible. The manifold should discharge well above the flocnet interface to reduce the flocs that fall into the effluent manifold. The manifold exit should be protected from flocs falling from the plate settlers. The discharge from the manifold should be deflected horizontally so that the discharge has no vertical momentum that would propel it through the floc blanket. It may be ideal to have the discharge of the manifold directed downward for improved energy dissipation of the jet.\n",
        "\n",
        "The bottom end of the manifold should be some distance from the end of the floc hopper so there is place for floc consolidation. The lower end of the manifold should be open or closed? \n",
        "\n",
        "If the lower end of the manifold is closed then it won't be possible for any flocs that settle inside the manifold to leave at the bottom. If it is open there may be a risk of the floc suspension moving up into the manifold. This requires analysis of the equilibrium floc/water interface using pressure. TBD "
      ]
    },
    {
      "cell_type": "markdown",
      "metadata": {
        "id": "nKlnziGvzHZc"
      },
      "source": [
        "# Floc blanket resuspension\n",
        "The flocs settle on the incline and then slide down. If we know the floc size and density, we can calculate the density of the water floc mix, the concentration of the density current, and the flow rate of the density current. The initial potential energy of the flocs on the incline can be used to estimate the final velocity of the floc density current when it gets to the jet reverser. The vertical momentum of the floc density current can then be used to calculate the required jet velocity.\n",
        "\n",
        "We assume failure happens when the jet momentum is no longer greater than the sludge momentum in the z direction.\n",
        "\n",
        "The average potential energy of the sludge on the slope is:\n",
        "$$PE = \\Delta \\rho g \\bar h$$\n",
        "where $\\bar h$ is the average elevation of the slope.  \n",
        "\n",
        "That PE is converted into KE at the bottom of the slope\n",
        "$$\\rho_{sludge}\\frac{v_{sludge}^2}{2} = \\Delta \\rho g \\bar h$$\n",
        "Solve for velocity\n",
        "$$v_{sludge} = \\sqrt{2 g \\bar h\\frac{\\rho_{sludge}-\\rho_{flocnet}}{\\rho_{sludge}} }$$\n",
        "\n",
        "$$v_{z_{sludge}} = v_{sludge} sin\\theta$$\n",
        "\n",
        "The vertical momentum of the sludge:\n",
        "\n",
        "$$ M_{sludge} = \\rho_{sludge} Q_{sludge} v_{z_{sludge}}$$\n",
        "\n",
        "The sludge is falling to the slope at the velocity of the flocnet and with the concentration of the flocnet. \n",
        "$$ Q_{sludge} C_{sludge} = v_{flocnet} A_{sed} C_{flocnet} $$\n",
        "\n",
        "From continuity $Q_{plant} = v_{flocnet} A_{sed}$ and thus we have\n",
        "\n",
        "$$ Q_{sludge} C_{sludge} = Q_{plant} C_{flocnet} $$\n",
        "\n",
        "\n",
        "solve for $ Q_{sludge}$\n",
        "$$ Q_{sludge}  = Q_{plant} \\frac{C_{flocnet}}{C_{sludge}} $$\n",
        "\n",
        "The momentum of the sludge in the vertical direction is \n",
        "$$ M_{sludge} = \n",
        "\\rho_{sludge} Q_{plant} \\frac{C_{flocnet}}{C_{sludge}} \n",
        "\\sqrt{2 g \\bar h\\frac{\\rho_{sludge}-\\rho_{flocnet}}{\\rho_{sludge}} } sin\\theta$$\n",
        "\n",
        "Now we need to find the momentum of the jet\n",
        "\n",
        "$$ M_{jet} = \\rho_{raw} Q_{plant} v_{jet}$$\n",
        "\n",
        "Now set these two momentums to be equal and solve for the jet velocity\n",
        "\n",
        "$$ \\rho_{raw} Q_{plant} v_{jet} = \n",
        "\\rho_{sludge} Q_{plant} \\frac{C_{flocnet}}{C_{sludge}} \n",
        "\\sqrt{2 g \\bar h\\frac{\\rho_{sludge}-\\rho_{flocnet}}{\\rho_{sludge}} } sin\\theta$$\n",
        "\n",
        "simplify\n",
        "\n",
        "$$   v_{jet_{min}} = \n",
        " \\frac{C_{flocnet}\\rho_{sludge}}{C_{sludge}\\rho_{raw}} \n",
        "\\sqrt{2 g \\bar h\\frac{\\rho_{sludge}-\\rho_{flocnet}}{\\rho_{sludge}} } sin\\theta$$\n",
        "\n",
        "[Casey observed failure](https://www-liebertpub-com.proxy.library.cornell.edu/doi/10.1089/ees.2015.0314) for a jet velocity of 60 mm/s."
      ]
    },
    {
      "cell_type": "code",
      "metadata": {
        "id": "_uP_StqQlvNr",
        "colab": {
          "base_uri": "https://localhost:8080/"
        },
        "outputId": "16af6f10-4b36-48fb-fbec-08a5c8125faf"
      },
      "source": [
        "def jetV_min(temp,rawClayC,sludgeClayC,flocnetClayC,sedW,slopeAN):\n",
        "  sludgeRHO = flocNetRHO(temp,ac.Clay.Density,sludgeClayC)\n",
        "  rawRHO = flocNetRHO(temp,ac.Clay.Density,rawClayC)\n",
        "  flocnetRHO = flocNetRHO(temp,ac.Clay.Density,flocnetClayC)\n",
        "  h_ave = slopeH_ave = sedW/4*np.tan(slopeAN)\n",
        "  a = flocnetClayC/sludgeClayC * sludgeRHO/rawRHO\n",
        "  b = np.sqrt(2*u.gravity*h_ave * (sludgeRHO-flocnetRHO)/sludgeRHO) * np.sin(slopeAN)\n",
        "  return (a*b).to(u.mm/u.s)\n",
        "\n",
        "\n",
        "temp = 20 * u.degC\n",
        "sedW = 0.8 * u.m\n",
        "slopeAN = 60 * u.deg\n",
        "rawClayC = 100 * u.NTU\n",
        "flocnetClayC = 4 * u.g/u.L\n",
        "sludgeClayC = 8 * u.g/u.L\n",
        "myjetV_min = jetV_min(temp,rawClayC,sludgeClayC,flocnetClayC,sedW,slopeAN)\n",
        "print(myjetV_min)"
      ],
      "execution_count": null,
      "outputs": [
        {
          "output_type": "stream",
          "text": [
            "56.54 millimeter / second\n"
          ],
          "name": "stdout"
        }
      ]
    },
    {
      "cell_type": "markdown",
      "metadata": {
        "id": "yEjOvRiON1Kr"
      },
      "source": [
        "Casey didn't report the sludge concentration for this experiment. If we use the value that she reported elsewhere (meaning I don't recall where she reported this) of 28 g/L then we get a minimum jet velocity of 17 mm/s. So we are off by a factor of 3 from the reported failure at 60 mm/s. It is possible that the sludge was less concentrated and if that is the case then the density current has more water and apparently the net effect of a lower concentration of sludge is greater momentum of the density current. This is because changes in density are less than the changes in clay concentration. Decreasing the sludge concentration to exactly double the flocnet concentration gives the maximum velocity requirement of 35.7 mm/s. That is still too low to explain the failure observed by Casey and it isn't clear why the sludge concentration would be double the flocnet concentration. \n",
        "\n",
        "Do we need to take into account the incoming velocity of vflocnet as additional energy? That seems difficult to characterize because we don't know what the water velocity right above the slope.\n",
        "\n",
        "Does the failure really happen when the momentums balance or is there an earlier failure when there is insufficient velocity to transport the settled sludge up and out of the jet reverser zone? Figure 9 from Casey's article reveals that failure was happening when the jet was deflected about 45 degrees. What is this failure mode?  \n",
        "\n",
        "\n",
        "\n",
        "In order to turn this into a design guideline we need to take into account the influence of operating at less than the maximum flow rate. A decrease in flow rate will result in an increase in floc blanket concentration and a decrease in jet velocity. \n",
        "\n",
        "That suggests that we need the full flocnet model for the flocnet concentration as a function of floc properties. We'd also need to specify the minimum fraction of full flow at which the sed tank must operate."
      ]
    }
  ]
}