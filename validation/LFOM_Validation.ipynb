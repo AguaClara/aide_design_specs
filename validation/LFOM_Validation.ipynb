{
  "nbformat": 4,
  "nbformat_minor": 0,
  "metadata": {
    "colab": {
      "name": "LFOM_Validation.ipynb",
      "provenance": [],
      "collapsed_sections": [],
      "include_colab_link": true
    },
    "kernelspec": {
      "name": "python3",
      "display_name": "Python 3"
    }
  },
  "cells": [
    {
      "cell_type": "markdown",
      "metadata": {
        "id": "view-in-github",
        "colab_type": "text"
      },
      "source": [
        "<a href=\"https://colab.research.google.com/github/AguaClara/aide_design_specs/blob/validation/validation/LFOM_Validation.ipynb\" target=\"_parent\"><img src=\"https://colab.research.google.com/assets/colab-badge.svg\" alt=\"Open In Colab\"/></a>"
      ]
    },
    {
      "cell_type": "code",
      "metadata": {
        "id": "YUCJea2F8Mge",
        "outputId": "7bf70f84-8874-4c3d-974a-d103ae3670b1",
        "colab": {
          "base_uri": "https://localhost:8080/",
          "height": 306
        }
      },
      "source": [
        "!pip install aguaclara"
      ],
      "execution_count": null,
      "outputs": [
        {
          "output_type": "stream",
          "text": [
            "Requirement already satisfied: aguaclara in /usr/local/lib/python3.6/dist-packages (0.2.4)\n",
            "Requirement already satisfied: matplotlib in /usr/local/lib/python3.6/dist-packages (from aguaclara) (3.2.2)\n",
            "Requirement already satisfied: pint in /usr/local/lib/python3.6/dist-packages (from aguaclara) (0.16.1)\n",
            "Requirement already satisfied: pandas in /usr/local/lib/python3.6/dist-packages (from aguaclara) (1.0.5)\n",
            "Requirement already satisfied: scipy in /usr/local/lib/python3.6/dist-packages (from aguaclara) (1.4.1)\n",
            "Requirement already satisfied: urllib3 in /usr/local/lib/python3.6/dist-packages (from aguaclara) (1.24.3)\n",
            "Requirement already satisfied: cycler>=0.10 in /usr/local/lib/python3.6/dist-packages (from matplotlib->aguaclara) (0.10.0)\n",
            "Requirement already satisfied: pyparsing!=2.0.4,!=2.1.2,!=2.1.6,>=2.0.1 in /usr/local/lib/python3.6/dist-packages (from matplotlib->aguaclara) (2.4.7)\n",
            "Requirement already satisfied: kiwisolver>=1.0.1 in /usr/local/lib/python3.6/dist-packages (from matplotlib->aguaclara) (1.2.0)\n",
            "Requirement already satisfied: numpy>=1.11 in /usr/local/lib/python3.6/dist-packages (from matplotlib->aguaclara) (1.18.5)\n",
            "Requirement already satisfied: python-dateutil>=2.1 in /usr/local/lib/python3.6/dist-packages (from matplotlib->aguaclara) (2.8.1)\n",
            "Requirement already satisfied: importlib-resources; python_version < \"3.7\" in /usr/local/lib/python3.6/dist-packages (from pint->aguaclara) (3.0.0)\n",
            "Requirement already satisfied: importlib-metadata; python_version < \"3.8\" in /usr/local/lib/python3.6/dist-packages (from pint->aguaclara) (1.7.0)\n",
            "Requirement already satisfied: packaging in /usr/local/lib/python3.6/dist-packages (from pint->aguaclara) (20.4)\n",
            "Requirement already satisfied: pytz>=2017.2 in /usr/local/lib/python3.6/dist-packages (from pandas->aguaclara) (2018.9)\n",
            "Requirement already satisfied: six in /usr/local/lib/python3.6/dist-packages (from cycler>=0.10->matplotlib->aguaclara) (1.15.0)\n",
            "Requirement already satisfied: zipp>=0.4; python_version < \"3.8\" in /usr/local/lib/python3.6/dist-packages (from importlib-resources; python_version < \"3.7\"->pint->aguaclara) (3.1.0)\n"
          ],
          "name": "stdout"
        }
      ]
    },
    {
      "cell_type": "markdown",
      "metadata": {
        "id": "9YjhPQ_9yiJ9"
      },
      "source": [
        "# Welcome to the LFOM Validation Example!\n",
        "I'll try to walk through the LFOM as an example of what the Python validation tool will do. This will assume the variables have already been parsed from \n",
        "Onshape using the functions ins [parse.py](https://github.com/AguaClara/aide_design_specs/blob/master/aide_doc/form_submit/templates/docs/parse.py)\n",
        "\n",
        "## Imports and Defining Variables\n",
        "First, I'll define the variables which are output by the Onshape model, as\n",
        "well as the inputs which we are trying to \"calculate back to.\" As mentioned above, these values would be obtained through functions in `parse.py`,\n",
        "but to keep the example simple I will hardcode them. Pint will be imported to\n",
        "add units to the variables."
      ]
    },
    {
      "cell_type": "code",
      "metadata": {
        "id": "Jh8ANfilxtVB"
      },
      "source": [
        "# import core aguaclara pkg functions\n",
        "import aguaclara.core.constants as con\n",
        "import aguaclara.core.physchem as pc\n",
        "from aguaclara.design.lfom import LFOM\n",
        "from aguaclara.core.units import u\n",
        "\n",
        "# import numpy for arrays\n",
        "import numpy as np\n",
        "\n",
        "# define the inputs to the Onshape model\n",
        "q = 10 * u.L / u.s\n",
        "temp = 21 * u.degC\n",
        "\n",
        "# define variables that will be output by Onshape\n",
        "hl = 0.2 * u.m  # head loss\n",
        "d_orifices = 0.016 * u.m  # diameter of orifices\n",
        "b_rows = 0.017 * u.m  # space between rows\n",
        "n_orifices = [17, 4, 6, 3, 4, 3, 3, 3, 2, 3, 1]  # number of orifices per row\n",
        "# height of the center of each row from the bottom of the bottom row\n",
        "h_orifices = [0.0079375, 0.02467613636363637, 0.04141477272727274, \n",
        "              0.0581534090909091, 0.07489204545454548, 0.09163068181818185, \n",
        "              0.1083693181818182, 0.1251079545454546, 0.14184659090909096,\n",
        "              0.15858522727272734, 0.1753238636363637, 0.19206250000000008] * u.m \n",
        "\n",
        "# set an acceptable tolerance \n",
        "# (I'll have to think harder about what this is in the future, for now I just picked 5%)\n",
        "tol = 0.05"
      ],
      "execution_count": null,
      "outputs": []
    },
    {
      "cell_type": "markdown",
      "metadata": {
        "id": "n18uUvKE4s00"
      },
      "source": [
        "## Verify Basic Constraints\n",
        "What exactly gets verified will vary widely depending on the component. For each\n",
        "one, some basic checks can be made based on reversing calculations in the [aguaclara package](https://github.com/AguaClara/aguaclara)\n",
        "\n",
        "For example, in [lfom.py](https://github.com/AguaClara/aguaclara/blob/master/aguaclara/design/lfom.py#L66) there is a function:\n",
        "\n",
        "\n",
        "```\n",
        "@property\n",
        "def row_b(self):\n",
        "    \"\"\"The distance center to center between each row of orifices.\"\"\"\n",
        "    return self.hl / self.row_n\n",
        "```\n",
        "\n",
        "So to reverse that calculation we could check that `hl == row_n * row_b`.\n",
        "\n",
        "However, we want to make sure to include the tolerance, so remembering that\n",
        "the percent error equation is: \n",
        "\n",
        "`% error = ((approx - actual) / actual) * 100`,\n",
        "we can do the following:"
      ]
    },
    {
      "cell_type": "code",
      "metadata": {
        "id": "RzUJTear5KiO",
        "outputId": "7615900d-f34a-4428-e353-623dffac60c9",
        "colab": {
          "base_uri": "https://localhost:8080/",
          "height": 180
        }
      },
      "source": [
        "assert tol > ((len(n_orifices) * b_rows) - hl) / hl\n",
        "assert -tol < ((len(n_orifices) * b_rows) - hl) / hl\n"
      ],
      "execution_count": null,
      "outputs": [
        {
          "output_type": "error",
          "ename": "AssertionError",
          "evalue": "ignored",
          "traceback": [
            "\u001b[0;31m---------------------------------------------------------------------------\u001b[0m",
            "\u001b[0;31mAssertionError\u001b[0m                            Traceback (most recent call last)",
            "\u001b[0;32m<ipython-input-21-f738130820c4>\u001b[0m in \u001b[0;36m<module>\u001b[0;34m()\u001b[0m\n\u001b[1;32m      1\u001b[0m \u001b[0;32massert\u001b[0m \u001b[0mtol\u001b[0m \u001b[0;34m>\u001b[0m \u001b[0;34m(\u001b[0m\u001b[0;34m(\u001b[0m\u001b[0mlen\u001b[0m\u001b[0;34m(\u001b[0m\u001b[0mn_orifices\u001b[0m\u001b[0;34m)\u001b[0m \u001b[0;34m*\u001b[0m \u001b[0mb_rows\u001b[0m\u001b[0;34m)\u001b[0m \u001b[0;34m-\u001b[0m \u001b[0mhl\u001b[0m\u001b[0;34m)\u001b[0m \u001b[0;34m/\u001b[0m \u001b[0mhl\u001b[0m\u001b[0;34m\u001b[0m\u001b[0;34m\u001b[0m\u001b[0m\n\u001b[0;32m----> 2\u001b[0;31m \u001b[0;32massert\u001b[0m \u001b[0;34m-\u001b[0m\u001b[0mtol\u001b[0m \u001b[0;34m<\u001b[0m \u001b[0;34m(\u001b[0m\u001b[0;34m(\u001b[0m\u001b[0mlen\u001b[0m\u001b[0;34m(\u001b[0m\u001b[0mn_orifices\u001b[0m\u001b[0;34m)\u001b[0m \u001b[0;34m*\u001b[0m \u001b[0mb_rows\u001b[0m\u001b[0;34m)\u001b[0m \u001b[0;34m-\u001b[0m \u001b[0mhl\u001b[0m\u001b[0;34m)\u001b[0m \u001b[0;34m/\u001b[0m \u001b[0mhl\u001b[0m\u001b[0;34m\u001b[0m\u001b[0;34m\u001b[0m\u001b[0m\n\u001b[0m",
            "\u001b[0;31mAssertionError\u001b[0m: "
          ]
        }
      ]
    },
    {
      "cell_type": "markdown",
      "metadata": {
        "id": "YtQvnYll8zUp"
      },
      "source": [
        "Oh no! It looks like the error is outside the bounds of the tolerance. What can\n",
        "we do to fix this?\n",
        "\n",
        "*I don't actually have an answer for this right now. In the meantime let's check some other constraints*"
      ]
    },
    {
      "cell_type": "code",
      "metadata": {
        "id": "wlSKw1X79qib",
        "outputId": "b139e74f-65b4-47dd-c93b-949b168905cc",
        "colab": {
          "base_uri": "https://localhost:8080/",
          "height": 197
        }
      },
      "source": [
        "# define an LFOM object to be used for some calculations\n",
        "lfom = LFOM(q=q, hl=hl)\n",
        "\n",
        "assert tol > (d_orifices - lfom.orifice_d).to(u.inch) / lfom.orifice_d\n",
        "assert -tol < (d_orifices - lfom.orifice_d).to(u.inch) / lfom.orifice_d"
      ],
      "execution_count": null,
      "outputs": [
        {
          "output_type": "error",
          "ename": "AssertionError",
          "evalue": "ignored",
          "traceback": [
            "\u001b[0;31m---------------------------------------------------------------------------\u001b[0m",
            "\u001b[0;31mAssertionError\u001b[0m                            Traceback (most recent call last)",
            "\u001b[0;32m<ipython-input-64-d9d40c9abf93>\u001b[0m in \u001b[0;36m<module>\u001b[0;34m()\u001b[0m\n\u001b[1;32m      3\u001b[0m \u001b[0;34m\u001b[0m\u001b[0m\n\u001b[1;32m      4\u001b[0m \u001b[0;32massert\u001b[0m \u001b[0mtol\u001b[0m \u001b[0;34m>\u001b[0m \u001b[0;34m(\u001b[0m\u001b[0md_orifices\u001b[0m \u001b[0;34m-\u001b[0m \u001b[0mlfom\u001b[0m\u001b[0;34m.\u001b[0m\u001b[0morifice_d\u001b[0m\u001b[0;34m)\u001b[0m\u001b[0;34m.\u001b[0m\u001b[0mto\u001b[0m\u001b[0;34m(\u001b[0m\u001b[0mu\u001b[0m\u001b[0;34m.\u001b[0m\u001b[0minch\u001b[0m\u001b[0;34m)\u001b[0m \u001b[0;34m/\u001b[0m \u001b[0mlfom\u001b[0m\u001b[0;34m.\u001b[0m\u001b[0morifice_d\u001b[0m\u001b[0;34m\u001b[0m\u001b[0;34m\u001b[0m\u001b[0m\n\u001b[0;32m----> 5\u001b[0;31m \u001b[0;32massert\u001b[0m \u001b[0;34m-\u001b[0m\u001b[0mtol\u001b[0m \u001b[0;34m<\u001b[0m \u001b[0;34m(\u001b[0m\u001b[0md_orifices\u001b[0m \u001b[0;34m-\u001b[0m \u001b[0mlfom\u001b[0m\u001b[0;34m.\u001b[0m\u001b[0morifice_d\u001b[0m\u001b[0;34m)\u001b[0m\u001b[0;34m.\u001b[0m\u001b[0mto\u001b[0m\u001b[0;34m(\u001b[0m\u001b[0mu\u001b[0m\u001b[0;34m.\u001b[0m\u001b[0minch\u001b[0m\u001b[0;34m)\u001b[0m \u001b[0;34m/\u001b[0m \u001b[0mlfom\u001b[0m\u001b[0;34m.\u001b[0m\u001b[0morifice_d\u001b[0m\u001b[0;34m\u001b[0m\u001b[0;34m\u001b[0m\u001b[0m\n\u001b[0m",
            "\u001b[0;31mAssertionError\u001b[0m: "
          ]
        }
      ]
    },
    {
      "cell_type": "markdown",
      "metadata": {
        "id": "HbuzLb1R3YPg"
      },
      "source": [
        "## Calculate the Onshape Model's Inputs\n",
        "These will almost always be temperature and flow rate, but may include other\n",
        "parameters based on the component. Again, we are essentially going to reverse the calculations found in the [aguaclara package](https://github.com/AguaClara/aguaclara)\n",
        "\n",
        "In the case of the LFOM, we'll reverse this equation:\n",
        "\n",
        "```\n",
        "@property\n",
        "def orifice_n_per_row(self):\n",
        "    \"\"\"The number of orifices at each level.\"\"\"\n",
        "    h = self.row_b - 0.5*self.orifice_d\n",
        "    flow_per_orifice = pc.flow_orifice_vert(self.orifice_d, h,\n",
        "                                            con.VC_ORIFICE_RATIO)\n",
        "    n = np.zeros(self.row_n)\n",
        "    for i in range(self.row_n):\n",
        "        flow_needed = self.q_per_row[i] - self.q_submerged(i, n)\n",
        "        n_orifices_real = (flow_needed / flow_per_orifice).to(u.dimensionless)\n",
        "        n[i] = min((max(0, round(n_orifices_real))),\n",
        "                   self.orifice_n_max_per_row)\n",
        "    return n\n",
        "```\n",
        "\n"
      ]
    },
    {
      "cell_type": "code",
      "metadata": {
        "id": "kwnyDvmz309m"
      },
      "source": [
        "h = b_rows - 0.5 * d_orifices\n",
        "flow_per_orifice = pc.flow_orifice_vert(d_orifices, h, con.VC_ORIFICE_RATIO)\n",
        "q_row =  q_req = np.zeros(len(n_orifices)) * u.m ** 3 / u.s\n",
        "\n",
        "for i in range(len(n_orifices)):\n",
        "  q_req = n_orifices[i] * flow_per_orifice\n",
        "  q_row[i] = q_req + lfom.q_submerged(i, n_orifices)"
      ],
      "execution_count": null,
      "outputs": []
    },
    {
      "cell_type": "markdown",
      "metadata": {
        "id": "OEnMETAUFk63"
      },
      "source": [
        "Now that we have the array `q_row`, we can see from the `aguaclara` package that\n",
        "`q_row[n]` will simply be `q`. \n",
        "\n",
        "```\n",
        "@property\n",
        "def q_per_row(self):\n",
        "    \"\"\"An array of flow at each row.\"\"\"\n",
        "    return np.linspace(1 / self.row_n, 1, self.row_n)*self.q\n",
        "```\n",
        "\n",
        "Therefore:"
      ]
    },
    {
      "cell_type": "code",
      "metadata": {
        "id": "gaM48WXKF_Wa"
      },
      "source": [
        "# change to include tolerance\n",
        "# assert q_row[len(n_orifices)-1] == q\n",
        "print(\"The expected flow rate, {!s}, differed widely from the one calculated by this validation code, {!s}.\".format(q, q_row[len(n_orifices)-1].to(u.L / u.s)))"
      ],
      "execution_count": null,
      "outputs": []
    }
  ]
}