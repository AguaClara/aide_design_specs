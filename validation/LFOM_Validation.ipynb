{
  "nbformat": 4,
  "nbformat_minor": 0,
  "metadata": {
    "colab": {
      "name": "LFOM_Validation.ipynb",
      "provenance": [],
      "collapsed_sections": [],
      "include_colab_link": true
    },
    "kernelspec": {
      "name": "python3",
      "display_name": "Python 3"
    }
  },
  "cells": [
    {
      "cell_type": "markdown",
      "metadata": {
        "id": "view-in-github",
        "colab_type": "text"
      },
      "source": [
        "<a href=\"https://colab.research.google.com/github/AguaClara/aide_design_specs/blob/validation/validation/LFOM_Validation.ipynb\" target=\"_parent\"><img src=\"https://colab.research.google.com/assets/colab-badge.svg\" alt=\"Open In Colab\"/></a>"
      ]
    },
    {
      "cell_type": "code",
      "metadata": {
        "id": "YUCJea2F8Mge",
        "outputId": "39798a07-88ce-4dbd-fa63-195ababfcd9b",
        "colab": {
          "base_uri": "https://localhost:8080/",
          "height": 391
        }
      },
      "source": [
        "!pip install aguaclara\n",
        "!pip install sklearn\n",
        "!pip install matplotlib\n",
        "!pip install numpy"
      ],
      "execution_count": 55,
      "outputs": [
        {
          "output_type": "stream",
          "text": [
            "Requirement already satisfied: aguaclara in /usr/local/lib/python3.6/dist-packages (0.2.4)\n",
            "Requirement already satisfied: pandas in /usr/local/lib/python3.6/dist-packages (from aguaclara) (1.1.2)\n",
            "Requirement already satisfied: pint in /usr/local/lib/python3.6/dist-packages (from aguaclara) (0.16.1)\n",
            "Requirement already satisfied: matplotlib in /usr/local/lib/python3.6/dist-packages (from aguaclara) (3.2.2)\n",
            "Requirement already satisfied: scipy in /usr/local/lib/python3.6/dist-packages (from aguaclara) (1.4.1)\n",
            "Requirement already satisfied: urllib3 in /usr/local/lib/python3.6/dist-packages (from aguaclara) (1.24.3)\n",
            "Requirement already satisfied: pytz>=2017.2 in /usr/local/lib/python3.6/dist-packages (from pandas->aguaclara) (2018.9)\n",
            "Requirement already satisfied: numpy>=1.15.4 in /usr/local/lib/python3.6/dist-packages (from pandas->aguaclara) (1.18.5)\n",
            "Requirement already satisfied: python-dateutil>=2.7.3 in /usr/local/lib/python3.6/dist-packages (from pandas->aguaclara) (2.8.1)\n",
            "Requirement already satisfied: packaging in /usr/local/lib/python3.6/dist-packages (from pint->aguaclara) (20.4)\n",
            "Requirement already satisfied: importlib-resources; python_version < \"3.7\" in /usr/local/lib/python3.6/dist-packages (from pint->aguaclara) (3.0.0)\n",
            "Requirement already satisfied: importlib-metadata; python_version < \"3.8\" in /usr/local/lib/python3.6/dist-packages (from pint->aguaclara) (2.0.0)\n",
            "Requirement already satisfied: pyparsing!=2.0.4,!=2.1.2,!=2.1.6,>=2.0.1 in /usr/local/lib/python3.6/dist-packages (from matplotlib->aguaclara) (2.4.7)\n",
            "Requirement already satisfied: cycler>=0.10 in /usr/local/lib/python3.6/dist-packages (from matplotlib->aguaclara) (0.10.0)\n",
            "Requirement already satisfied: kiwisolver>=1.0.1 in /usr/local/lib/python3.6/dist-packages (from matplotlib->aguaclara) (1.2.0)\n",
            "Requirement already satisfied: six>=1.5 in /usr/local/lib/python3.6/dist-packages (from python-dateutil>=2.7.3->pandas->aguaclara) (1.15.0)\n",
            "Requirement already satisfied: zipp>=0.4; python_version < \"3.8\" in /usr/local/lib/python3.6/dist-packages (from importlib-resources; python_version < \"3.7\"->pint->aguaclara) (3.2.0)\n",
            "Requirement already satisfied: sklearn in /usr/local/lib/python3.6/dist-packages (0.0)\n",
            "Requirement already satisfied: scikit-learn in /usr/local/lib/python3.6/dist-packages (from sklearn) (0.22.2.post1)\n",
            "Requirement already satisfied: numpy>=1.11.0 in /usr/local/lib/python3.6/dist-packages (from scikit-learn->sklearn) (1.18.5)\n",
            "Requirement already satisfied: joblib>=0.11 in /usr/local/lib/python3.6/dist-packages (from scikit-learn->sklearn) (0.16.0)\n",
            "Requirement already satisfied: scipy>=0.17.0 in /usr/local/lib/python3.6/dist-packages (from scikit-learn->sklearn) (1.4.1)\n"
          ],
          "name": "stdout"
        }
      ]
    },
    {
      "cell_type": "markdown",
      "metadata": {
        "id": "9YjhPQ_9yiJ9"
      },
      "source": [
        "# Welcome to the LFOM Validation Example!\n",
        "I'll try to walk through the LFOM as an example of what the Python validation tool will do. This will assume the variables have already been parsed from \n",
        "Onshape using the functions ins [parse.py](https://github.com/AguaClara/aide_design_specs/blob/master/aide_doc/form_submit/templates/docs/parse.py)\n",
        "\n",
        "## Imports and Defining Variables\n",
        "First, I'll define the variables which are output by the Onshape model, as\n",
        "well as the inputs which we are trying to \"calculate back to.\" As mentioned above, these values would be obtained through functions in `parse.py`,\n",
        "but to keep the example simple I will hardcode them. Pint will be imported to\n",
        "add units to the variables."
      ]
    },
    {
      "cell_type": "code",
      "metadata": {
        "id": "Jh8ANfilxtVB"
      },
      "source": [
        "# import core aguaclara pkg functions\n",
        "import aguaclara.core.constants as con\n",
        "import aguaclara.core.physchem as pc\n",
        "from aguaclara.design.lfom import LFOM\n",
        "from aguaclara.core.units import u\n",
        "\n",
        "# import numpy for arrays\n",
        "import numpy as np\n",
        "\n",
        "# define the inputs to the Onshape model\n",
        "q = 10 * u.L / u.s\n",
        "temp = 21 * u.degC\n",
        "\n",
        "# define variables that will be output by Onshape\n",
        "hl = 0.2 * u.m  # head loss\n",
        "d_orifices = 0.016 * u.m  # diameter of orifices\n",
        "b_rows = 0.017 * u.m  # space between rows\n",
        "n_orifices = [17, 4, 6, 3, 4, 3, 3, 3, 3, 2, 3, 1]  # number of orifices per row\n",
        "# height of the center of each row from the bottom of the bottom row\n",
        "h_orifices = [0.0079375, 0.02467613636363637, 0.04141477272727274, \n",
        "              0.0581534090909091, 0.07489204545454548, 0.09163068181818185, \n",
        "              0.1083693181818182, 0.1251079545454546, 0.14184659090909096,\n",
        "              0.15858522727272734, 0.1753238636363637, 0.19206250000000008] * u.m \n",
        "\n",
        "# set an acceptable tolerance \n",
        "# (I'll have to think harder about what this is in the future, for now I just picked 5%)\n",
        "tol = 0.05"
      ],
      "execution_count": 52,
      "outputs": []
    },
    {
      "cell_type": "markdown",
      "metadata": {
        "id": "n18uUvKE4s00"
      },
      "source": [
        "## Calculate the Onshape Model's Inputs\n",
        "What exactly gets calculated will vary widely depending on the component. For each one, some basic checks can be made based on reversing calculations in the [aguaclara package](https://github.com/AguaClara/aguaclara)\n",
        "\n",
        "Because there are multiple valid design algorithms for the LFOM, the pipe \n",
        "and orifices can have different diameters, leading to a different number of\n",
        "orifices in each row. Therefore, only the design flow rate can be confirmed.\n",
        "Fitting the flow rate at each row to a linear curve is sufficient to validate\n",
        "the design.\n",
        "\n",
        "In the case of the LFOM, we'll use this equation to determine the flow rates:\n"
      ]
    },
    {
      "cell_type": "code",
      "metadata": {
        "id": "TQuH4YfH7uk8"
      },
      "source": [
        "def flow_lfom_vert(height):\n",
        "    \"\"\"Returns the flow through the LFOM as a function of height\"\"\"\n",
        "    flow = pc.flow_orifice_vert(d_orifices, height - h_orifices, con.VC_ORIFICE_RATIO)*n_orifices\n",
        "    return (sum(flow)).to(u.L/u.s)"
      ],
      "execution_count": 53,
      "outputs": []
    },
    {
      "cell_type": "markdown",
      "metadata": {
        "id": "OEnMETAUFk63"
      },
      "source": [
        "\n",
        "However, we want to make sure to include the tolerance, so remembering that\n",
        "the percent error equation is: \n",
        "\n",
        "`% error = ((approx - actual) / actual) * 100`,\n",
        "we can do the following:"
      ]
    },
    {
      "cell_type": "code",
      "metadata": {
        "id": "kwnyDvmz309m",
        "outputId": "913e47a7-7817-437d-8a8a-7f99fafbd400",
        "colab": {
          "base_uri": "https://localhost:8080/",
          "height": 34
        }
      },
      "source": [
        "# check this is within tolerance of design flow rate\n",
        "q_calc = flow_lfom_vert(h_orifices[-1] + 0.5 * d_orifices) \n",
        "assert tol > (q_calc - q) / q\n",
        "assert -tol < (q_calc - q) / q\n",
        "print(\"The expected flow rate, {!s}, very close to the one calculated by this validation code, {!s}.\".format(q, q_calc))"
      ],
      "execution_count": 93,
      "outputs": [
        {
          "output_type": "stream",
          "text": [
            "The expected flow rate, 10 liter / second, very close to the one calculated by this validation code, 10.36 liter / second.\n"
          ],
          "name": "stdout"
        }
      ]
    },
    {
      "cell_type": "markdown",
      "metadata": {
        "id": "hFsAtdah_MDm"
      },
      "source": [
        "Next, let's try a slightly more complicated validation: checking that the flow \n",
        "rates fit a linear curve."
      ]
    },
    {
      "cell_type": "code",
      "metadata": {
        "id": "aii68i2K_SsM",
        "outputId": "da517e47-cc75-47e1-9579-611097d70a77",
        "colab": {
          "base_uri": "https://localhost:8080/",
          "height": 333
        }
      },
      "source": [
        "# create a list of flow rates\n",
        "flows = []\n",
        "\n",
        "for h in h_orifices:\n",
        "  flows.append(flow_lfom_vert(h).magnitude)\n",
        "\n",
        "flows = flows * u.L / u.s\n",
        "\n",
        "# check their linearity\n",
        "import numpy as np\n",
        "\n",
        "# https://www.kite.com/python/answers/how-to-calculate-r-squared-with-numpy-in-python#:~:text=corrcoef(x%2Cy)%20with,coefficient%20of%20determination%2C%20R%20squared\n",
        "r2 = np.corrcoef(h_orifices.magnitude, flows.magnitude)[0,1]**2\n",
        "print('The R^2 value for the LFOM flow rates was', r2, '\\n')\n",
        "\n",
        "# we can also show this graphically\n",
        "# (this is useful for manual validation, but R^2 is needed for automation)\n",
        "import matplotlib.pyplot as plt\n",
        "\n",
        "plt.plot(h_orifices, flows)\n",
        "plt.show()"
      ],
      "execution_count": 92,
      "outputs": [
        {
          "output_type": "stream",
          "text": [
            "The R^2 value for the LFOM flow rates was 0.9998586066038334 \n",
            "\n"
          ],
          "name": "stdout"
        },
        {
          "output_type": "stream",
          "text": [
            "/usr/local/lib/python3.6/dist-packages/numpy/core/_asarray.py:85: UnitStrippedWarning: The unit of the quantity is stripped when downcasting to ndarray.\n",
            "  return array(a, dtype, copy=False, order=order)\n"
          ],
          "name": "stderr"
        },
        {
          "output_type": "display_data",
          "data": {
            "image/png": "[encoded data removed]",
            "text/plain": [
              "<Figure size 432x288 with 1 Axes>"
            ]
          },
          "metadata": {
            "tags": [],
            "needs_background": "light"
          }
        }
      ]
    },
    {
      "cell_type": "markdown",
      "metadata": {
        "id": "FJ-Fw7Dj-28h"
      },
      "source": [
        "It's good to validate with multiple inputs, so here's another example:"
      ]
    },
    {
      "cell_type": "code",
      "metadata": {
        "id": "M1Fsie11MocO"
      },
      "source": [
        "# redefine the inputs from this design challenge:\n",
        "# https://colab.research.google.com/github/AguaClara/CEE4520/blob/master/DC%20Solutions%202017/Jupyter%20Notebooks/DC_Flow_Control_and_Measurement_Solution.ipynb#scrollTo=azQlMZSDE6jB\n",
        "q = 31 * u.L / u.s\n",
        "hl = 0.2 * u.m  # head loss\n",
        "lfom = LFOM(q=q, hl=hl)\n",
        "\n",
        "# define variables that were output in above DC\n",
        "d_orifices = 0.015 * u.m  # diameter of orifices\n",
        "b_rows = 0.2 * u.m  # space between rows\n",
        "n_orifices = [ 43, 43, 14, 15, 13, 12, 11, 11, 9, 10] # number of orifices per row\n",
        "# height of the center of each row from the bottom of the bottom row\n",
        "h_orifices = [0.75, 2.75, 4.75, 6.75, 8.75, 10.75, 12.75, 14.75, 16.75, 18.75] * u.cm "
      ],
      "execution_count": 95,
      "outputs": []
    },
    {
      "cell_type": "code",
      "metadata": {
        "id": "P8cW9-ddZOS5",
        "outputId": "8fe4fba9-858b-4260-9fe4-7b58c07d0127",
        "colab": {
          "base_uri": "https://localhost:8080/",
          "height": 34
        }
      },
      "source": [
        "# check this is within tolerance of design flow rate\n",
        "q_calc = flow_lfom_vert(h_orifices[-1] + 0.5 * d_orifices) \n",
        "assert tol > (q_calc - q) / q\n",
        "assert -tol < (q_calc - q) / q\n",
        "print(\"The expected flow rate, {!s}, very close to the one calculated by this validation code, {!s}.\".format(q, q_calc))\n"
      ],
      "execution_count": 96,
      "outputs": [
        {
          "output_type": "stream",
          "text": [
            "The expected flow rate, 31 liter / second, very close to the one calculated by this validation code, 30.73 liter / second.\n"
          ],
          "name": "stdout"
        }
      ]
    },
    {
      "cell_type": "code",
      "metadata": {
        "id": "bAo9_0sdIE2U",
        "outputId": "e4cfc9b1-8176-40b9-b60e-448341e51e4a",
        "colab": {
          "base_uri": "https://localhost:8080/",
          "height": 333
        }
      },
      "source": [
        "# create a list of flow rates\n",
        "flows = []\n",
        "\n",
        "for h in h_orifices:\n",
        "  flows.append(flow_lfom_vert(h).magnitude)\n",
        "\n",
        "flows = flows * u.L / u.s\n",
        "\n",
        "# check their linearity\n",
        "import numpy as np\n",
        "\n",
        "# https://www.kite.com/python/answers/how-to-calculate-r-squared-with-numpy-in-python#:~:text=corrcoef(x%2Cy)%20with,coefficient%20of%20determination%2C%20R%20squared\n",
        "r2 = np.corrcoef(h_orifices.magnitude, flows.magnitude)[0,1]**2\n",
        "print('The R^2 value for the LFOM flow rates was', r2, '\\n')\n",
        "\n",
        "# we can also show this graphically\n",
        "# (this is useful for manual validation, but R^2 is needed for automation)\n",
        "import matplotlib.pyplot as plt\n",
        "\n",
        "plt.plot(h_orifices, flows)\n",
        "plt.show()"
      ],
      "execution_count": 97,
      "outputs": [
        {
          "output_type": "stream",
          "text": [
            "The R^2 value for the LFOM flow rates was 0.9995476782948031 \n",
            "\n"
          ],
          "name": "stdout"
        },
        {
          "output_type": "stream",
          "text": [
            "/usr/local/lib/python3.6/dist-packages/numpy/core/_asarray.py:85: UnitStrippedWarning: The unit of the quantity is stripped when downcasting to ndarray.\n",
            "  return array(a, dtype, copy=False, order=order)\n"
          ],
          "name": "stderr"
        },
        {
          "output_type": "display_data",
          "data": {
            "image/png": "[encoded data removed]",
            "text/plain": [
              "<Figure size 432x288 with 1 Axes>"
            ]
          },
          "metadata": {
            "tags": [],
            "needs_background": "light"
          }
        }
      ]
    }
  ]
}