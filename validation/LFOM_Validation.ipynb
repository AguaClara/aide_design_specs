{
  "nbformat": 4,
  "nbformat_minor": 0,
  "metadata": {
    "colab": {
      "name": "LFOM_Validation.ipynb",
      "provenance": [],
      "collapsed_sections": [],
      "include_colab_link": true
    },
    "kernelspec": {
      "name": "python3",
      "display_name": "Python 3"
    }
  },
  "cells": [
    {
      "cell_type": "markdown",
      "metadata": {
        "id": "view-in-github",
        "colab_type": "text"
      },
      "source": [
        "<a href=\"https://colab.research.google.com/github/AguaClara/aide_design_specs/blob/validation/validation/LFOM_Validation.ipynb\" target=\"_parent\"><img src=\"https://colab.research.google.com/assets/colab-badge.svg\" alt=\"Open In Colab\"/></a>"
      ]
    },
    {
      "cell_type": "code",
      "metadata": {
        "id": "YUCJea2F8Mge",
        "outputId": "7d2aa2c4-538f-443a-8746-f7d817176ea4",
        "colab": {
          "base_uri": "https://localhost:8080/",
          "height": 510
        }
      },
      "source": [
        "!pip install aguaclara"
      ],
      "execution_count": 1,
      "outputs": [
        {
          "output_type": "stream",
          "text": [
            "Collecting aguaclara\n",
            "\u001b[?25l  Downloading https://files.pythonhosted.org/packages/3e/e4/e279846ebb49e2fb6b8b55edad28b66b4ed281480b8ec683b06e123472e0/aguaclara-0.2.4.tar.gz (87kB)\n",
            "\r\u001b[K     |███▊                            | 10kB 19.0MB/s eta 0:00:01\r\u001b[K     |███████▌                        | 20kB 1.7MB/s eta 0:00:01\r\u001b[K     |███████████▎                    | 30kB 2.2MB/s eta 0:00:01\r\u001b[K     |███████████████                 | 40kB 2.6MB/s eta 0:00:01\r\u001b[K     |██████████████████▊             | 51kB 2.0MB/s eta 0:00:01\r\u001b[K     |██████████████████████▌         | 61kB 2.2MB/s eta 0:00:01\r\u001b[K     |██████████████████████████▎     | 71kB 2.5MB/s eta 0:00:01\r\u001b[K     |██████████████████████████████  | 81kB 2.7MB/s eta 0:00:01\r\u001b[K     |████████████████████████████████| 92kB 2.3MB/s \n",
            "\u001b[?25hRequirement already satisfied: matplotlib in /usr/local/lib/python3.6/dist-packages (from aguaclara) (3.2.2)\n",
            "Requirement already satisfied: urllib3 in /usr/local/lib/python3.6/dist-packages (from aguaclara) (1.24.3)\n",
            "Collecting pint\n",
            "\u001b[?25l  Downloading https://files.pythonhosted.org/packages/5f/0e/dd4fb17aed6bfbc168fd767cffb6ec20b634009b75fd8ea699ea244bff3c/Pint-0.16.1-py2.py3-none-any.whl (205kB)\n",
            "\u001b[K     |████████████████████████████████| 215kB 8.6MB/s \n",
            "\u001b[?25hRequirement already satisfied: pandas in /usr/local/lib/python3.6/dist-packages (from aguaclara) (1.1.2)\n",
            "Requirement already satisfied: scipy in /usr/local/lib/python3.6/dist-packages (from aguaclara) (1.4.1)\n",
            "Requirement already satisfied: numpy>=1.11 in /usr/local/lib/python3.6/dist-packages (from matplotlib->aguaclara) (1.18.5)\n",
            "Requirement already satisfied: cycler>=0.10 in /usr/local/lib/python3.6/dist-packages (from matplotlib->aguaclara) (0.10.0)\n",
            "Requirement already satisfied: kiwisolver>=1.0.1 in /usr/local/lib/python3.6/dist-packages (from matplotlib->aguaclara) (1.2.0)\n",
            "Requirement already satisfied: pyparsing!=2.0.4,!=2.1.2,!=2.1.6,>=2.0.1 in /usr/local/lib/python3.6/dist-packages (from matplotlib->aguaclara) (2.4.7)\n",
            "Requirement already satisfied: python-dateutil>=2.1 in /usr/local/lib/python3.6/dist-packages (from matplotlib->aguaclara) (2.8.1)\n",
            "Requirement already satisfied: importlib-metadata; python_version < \"3.8\" in /usr/local/lib/python3.6/dist-packages (from pint->aguaclara) (2.0.0)\n",
            "Requirement already satisfied: packaging in /usr/local/lib/python3.6/dist-packages (from pint->aguaclara) (20.4)\n",
            "Collecting importlib-resources; python_version < \"3.7\"\n",
            "  Downloading https://files.pythonhosted.org/packages/ba/03/0f9595c0c2ef12590877f3c47e5f579759ce5caf817f8256d5dcbd8a1177/importlib_resources-3.0.0-py2.py3-none-any.whl\n",
            "Requirement already satisfied: pytz>=2017.2 in /usr/local/lib/python3.6/dist-packages (from pandas->aguaclara) (2018.9)\n",
            "Requirement already satisfied: six in /usr/local/lib/python3.6/dist-packages (from cycler>=0.10->matplotlib->aguaclara) (1.15.0)\n",
            "Requirement already satisfied: zipp>=0.5 in /usr/local/lib/python3.6/dist-packages (from importlib-metadata; python_version < \"3.8\"->pint->aguaclara) (3.2.0)\n",
            "Building wheels for collected packages: aguaclara\n",
            "  Building wheel for aguaclara (setup.py) ... \u001b[?25l\u001b[?25hdone\n",
            "  Created wheel for aguaclara: filename=aguaclara-0.2.4-cp36-none-any.whl size=99459 sha256=2d175932374ca406b97f1f4a1cbfee3f031bb0596fc902ac531880c1b698b73b\n",
            "  Stored in directory: /root/.cache/pip/wheels/13/8f/96/21ca9dd731bb0b86c16855c39ce375604b9a745f3ed388ac51\n",
            "Successfully built aguaclara\n",
            "Installing collected packages: importlib-resources, pint, aguaclara\n",
            "Successfully installed aguaclara-0.2.4 importlib-resources-3.0.0 pint-0.16.1\n"
          ],
          "name": "stdout"
        }
      ]
    },
    {
      "cell_type": "markdown",
      "metadata": {
        "id": "9YjhPQ_9yiJ9"
      },
      "source": [
        "# Welcome to the LFOM Validation Example!\n",
        "I'll try to walk through the LFOM as an example of what the Python validation tool will do. This will assume the variables have already been parsed from \n",
        "Onshape using the functions ins [parse.py](https://github.com/AguaClara/aide_design_specs/blob/master/aide_doc/form_submit/templates/docs/parse.py)\n",
        "\n",
        "## Imports and Defining Variables\n",
        "First, I'll define the variables which are output by the Onshape model, as\n",
        "well as the inputs which we are trying to \"calculate back to.\" As mentioned above, these values would be obtained through functions in `parse.py`,\n",
        "but to keep the example simple I will hardcode them. Pint will be imported to\n",
        "add units to the variables."
      ]
    },
    {
      "cell_type": "code",
      "metadata": {
        "id": "Jh8ANfilxtVB"
      },
      "source": [
        "# import core aguaclara pkg functions\n",
        "import aguaclara.core.constants as con\n",
        "import aguaclara.core.physchem as pc\n",
        "from aguaclara.design.lfom import LFOM\n",
        "from aguaclara.core.units import u\n",
        "\n",
        "# import numpy for arrays\n",
        "import numpy as np\n",
        "\n",
        "# define the inputs to the Onshape model\n",
        "q = 10 * u.L / u.s\n",
        "temp = 21 * u.degC\n",
        "\n",
        "# define variables that will be output by Onshape\n",
        "hl = 0.2 * u.m  # head loss\n",
        "d_orifices = 0.016 * u.m  # diameter of orifices\n",
        "b_rows = 0.017 * u.m  # space between rows\n",
        "n_orifices = [17, 4, 6, 3, 4, 3, 3, 3, 3, 2, 3, 1]  # number of orifices per row\n",
        "# height of the center of each row from the bottom of the bottom row\n",
        "h_orifices = [0.0079375, 0.02467613636363637, 0.04141477272727274, \n",
        "              0.0581534090909091, 0.07489204545454548, 0.09163068181818185, \n",
        "              0.1083693181818182, 0.1251079545454546, 0.14184659090909096,\n",
        "              0.15858522727272734, 0.1753238636363637, 0.19206250000000008] * u.m \n",
        "\n",
        "# set an acceptable tolerance \n",
        "# (I'll have to think harder about what this is in the future, for now I just picked 5%)\n",
        "tol = 0.05"
      ],
      "execution_count": 4,
      "outputs": []
    },
    {
      "cell_type": "code",
      "metadata": {
        "id": "M1Fsie11MocO"
      },
      "source": [
        "# redefine the inputs from this design challenge:\n",
        "# https://colab.research.google.com/github/AguaClara/CEE4520/blob/master/DC%20Solutions%202017/Jupyter%20Notebooks/DC_Flow_Control_and_Measurement_Solution.ipynb#scrollTo=azQlMZSDE6jB\n",
        "q = 31 * u.L / u.s\n",
        "temp = 21 * u.degC\n",
        "\n",
        "# define variables that were output in above DC\n",
        "hl = 0.2 * u.m  # head loss\n",
        "d_orifices = 0.015 * u.m  # diameter of orifices\n",
        "b_rows = 0.2 * u.m  # space between rows\n",
        "n_orifices = [ 43, 43, 14, 15, 13, 12, 11, 11, 9, 10] # number of orifices per row\n",
        "# height of the center of each row from the bottom of the bottom row\n",
        "h_orifices = [0.75, 2.75, 4.75, 6.75, 8.75, 10.75, 12.75, 14.75, 16.75, 18.75] * u.cm \n",
        "\n",
        "# set an acceptable tolerance \n",
        "# (I'll have to think harder about what this is in the future, for now I just picked 5%)\n",
        "tol = 0.05"
      ],
      "execution_count": 29,
      "outputs": []
    },
    {
      "cell_type": "markdown",
      "metadata": {
        "id": "n18uUvKE4s00"
      },
      "source": [
        "## Verify Basic Constraints\n",
        "What exactly gets verified will vary widely depending on the component. For each\n",
        "one, some basic checks can be made based on reversing calculations in the [aguaclara package](https://github.com/AguaClara/aguaclara)\n",
        "\n",
        "For example, in [lfom.py](https://github.com/AguaClara/aguaclara/blob/master/aguaclara/design/lfom.py#L66) there is a function:\n",
        "\n",
        "\n",
        "```\n",
        "@property\n",
        "def row_b(self):\n",
        "    \"\"\"The distance center to center between each row of orifices.\"\"\"\n",
        "    return self.hl / self.row_n\n",
        "```\n",
        "\n",
        "So to reverse that calculation we could check that `hl == row_n * row_b`.\n",
        "\n",
        "However, we want to make sure to include the tolerance, so remembering that\n",
        "the percent error equation is: \n",
        "\n",
        "`% error = ((approx - actual) / actual) * 100`,\n",
        "we can do the following:"
      ]
    },
    {
      "cell_type": "code",
      "metadata": {
        "id": "RzUJTear5KiO",
        "outputId": "5de0233f-55c4-4de3-8fa2-b320beebfe66",
        "colab": {
          "base_uri": "https://localhost:8080/",
          "height": 231
        }
      },
      "source": [
        "assert tol > ((len(n_orifices) * b_rows) - hl) / hl\n",
        "assert -tol < ((len(n_orifices) * b_rows) - hl) / hl\n",
        "\n",
        "# define an LFOM object to be used for some calculations\n",
        "lfom = LFOM(q=q, hl=hl)\n",
        "\n",
        "assert tol > (d_orifices - lfom.orifice_d).to(u.inch) / lfom.orifice_d\n",
        "assert -tol < (d_orifices - lfom.orifice_d).to(u.inch) / lfom.orifice_d\n"
      ],
      "execution_count": 30,
      "outputs": [
        {
          "output_type": "error",
          "ename": "AssertionError",
          "evalue": "ignored",
          "traceback": [
            "\u001b[0;31m---------------------------------------------------------------------------\u001b[0m",
            "\u001b[0;31mAssertionError\u001b[0m                            Traceback (most recent call last)",
            "\u001b[0;32m<ipython-input-30-76e1231a6f40>\u001b[0m in \u001b[0;36m<module>\u001b[0;34m()\u001b[0m\n\u001b[0;32m----> 1\u001b[0;31m \u001b[0;32massert\u001b[0m \u001b[0mtol\u001b[0m \u001b[0;34m>\u001b[0m \u001b[0;34m(\u001b[0m\u001b[0;34m(\u001b[0m\u001b[0mlen\u001b[0m\u001b[0;34m(\u001b[0m\u001b[0mn_orifices\u001b[0m\u001b[0;34m)\u001b[0m \u001b[0;34m*\u001b[0m \u001b[0mb_rows\u001b[0m\u001b[0;34m)\u001b[0m \u001b[0;34m-\u001b[0m \u001b[0mhl\u001b[0m\u001b[0;34m)\u001b[0m \u001b[0;34m/\u001b[0m \u001b[0mhl\u001b[0m\u001b[0;34m\u001b[0m\u001b[0;34m\u001b[0m\u001b[0m\n\u001b[0m\u001b[1;32m      2\u001b[0m \u001b[0;32massert\u001b[0m \u001b[0;34m-\u001b[0m\u001b[0mtol\u001b[0m \u001b[0;34m<\u001b[0m \u001b[0;34m(\u001b[0m\u001b[0;34m(\u001b[0m\u001b[0mlen\u001b[0m\u001b[0;34m(\u001b[0m\u001b[0mn_orifices\u001b[0m\u001b[0;34m)\u001b[0m \u001b[0;34m*\u001b[0m \u001b[0mb_rows\u001b[0m\u001b[0;34m)\u001b[0m \u001b[0;34m-\u001b[0m \u001b[0mhl\u001b[0m\u001b[0;34m)\u001b[0m \u001b[0;34m/\u001b[0m \u001b[0mhl\u001b[0m\u001b[0;34m\u001b[0m\u001b[0;34m\u001b[0m\u001b[0m\n\u001b[1;32m      3\u001b[0m \u001b[0;31m# define an LFOM object to be used for some calculations\u001b[0m\u001b[0;34m\u001b[0m\u001b[0;34m\u001b[0m\u001b[0;34m\u001b[0m\u001b[0m\n\u001b[1;32m      4\u001b[0m \u001b[0mlfom\u001b[0m \u001b[0;34m=\u001b[0m \u001b[0mLFOM\u001b[0m\u001b[0;34m(\u001b[0m\u001b[0mq\u001b[0m\u001b[0;34m=\u001b[0m\u001b[0mq\u001b[0m\u001b[0;34m,\u001b[0m \u001b[0mhl\u001b[0m\u001b[0;34m=\u001b[0m\u001b[0mhl\u001b[0m\u001b[0;34m)\u001b[0m\u001b[0;34m\u001b[0m\u001b[0;34m\u001b[0m\u001b[0m\n\u001b[1;32m      5\u001b[0m \u001b[0;34m\u001b[0m\u001b[0m\n",
            "\u001b[0;31mAssertionError\u001b[0m: "
          ]
        }
      ]
    },
    {
      "cell_type": "markdown",
      "metadata": {
        "id": "HbuzLb1R3YPg"
      },
      "source": [
        "## Calculate the Onshape Model's Inputs\n",
        "These will almost always be temperature and flow rate, but may include other\n",
        "parameters based on the component. Again, we are essentially going to reverse the calculations found in the [aguaclara package](https://github.com/AguaClara/aguaclara)\n",
        "\n",
        "In the case of the LFOM, we'll reverse this equation:\n",
        "\n",
        "```\n",
        "@property\n",
        "def orifice_n_per_row(self):\n",
        "    \"\"\"The number of orifices at each level.\"\"\"\n",
        "    h = self.row_b - 0.5*self.orifice_d\n",
        "    flow_per_orifice = pc.flow_orifice_vert(self.orifice_d, h,\n",
        "                                            con.VC_ORIFICE_RATIO)\n",
        "    n = np.zeros(self.row_n)\n",
        "    for i in range(self.row_n):\n",
        "        flow_needed = self.q_per_row[i] - self.q_submerged(i, n)\n",
        "        n_orifices_real = (flow_needed / flow_per_orifice).to(u.dimensionless)\n",
        "        n[i] = min((max(0, round(n_orifices_real))),\n",
        "                   self.orifice_n_max_per_row)\n",
        "    return n\n",
        "```\n",
        "\n"
      ]
    },
    {
      "cell_type": "code",
      "metadata": {
        "id": "kwnyDvmz309m"
      },
      "source": [
        "h = b_rows - 0.5 * d_orifices\n",
        "flow_per_orifice = pc.flow_orifice_vert(d_orifices, h, con.VC_ORIFICE_RATIO)\n",
        "q_row =  q_req = np.zeros(len(n_orifices)) * u.m ** 3 / u.s\n",
        "\n",
        "for i in range(len(n_orifices)):\n",
        "  q_req = n_orifices[i] * flow_per_orifice\n",
        "  q_row[i] = q_req + lfom.q_submerged(i, n_orifices)"
      ],
      "execution_count": 33,
      "outputs": []
    },
    {
      "cell_type": "markdown",
      "metadata": {
        "id": "OEnMETAUFk63"
      },
      "source": [
        "Now that we have the array `q_row`, we can see from the `aguaclara` package that\n",
        "`q_row[n]` will simply be `q`. \n",
        "\n",
        "```\n",
        "@property\n",
        "def q_per_row(self):\n",
        "    \"\"\"An array of flow at each row.\"\"\"\n",
        "    return np.linspace(1 / self.row_n, 1, self.row_n)*self.q\n",
        "```\n",
        "\n",
        "Therefore:"
      ]
    },
    {
      "cell_type": "code",
      "metadata": {
        "id": "gaM48WXKF_Wa",
        "outputId": "2abfae2f-18fe-4ebd-a5e7-5d35131d5d2c",
        "colab": {
          "base_uri": "https://localhost:8080/",
          "height": 34
        }
      },
      "source": [
        "# change to include tolerance\n",
        "# assert q_row[len(n_orifices)-1] == q\n",
        "print(\"The expected flow rate, {!s}, differed widely from the one calculated by this validation code, {!s}.\".format(q, q_row[len(n_orifices)-1].to(u.L / u.s)))"
      ],
      "execution_count": 34,
      "outputs": [
        {
          "output_type": "stream",
          "text": [
            "The expected flow rate, 31 liter / second, differed widely from the one calculated by this validation code, 51.66 liter / second.\n"
          ],
          "name": "stdout"
        }
      ]
    }
  ]
}